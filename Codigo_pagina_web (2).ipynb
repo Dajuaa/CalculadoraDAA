{
  "nbformat": 4,
  "nbformat_minor": 0,
  "metadata": {
    "colab": {
      "provenance": [],
      "gpuType": "T4"
    },
    "kernelspec": {
      "name": "python3",
      "display_name": "Python 3"
    },
    "language_info": {
      "name": "python"
    },
    "accelerator": "GPU"
  },
  "cells": [
    {
      "cell_type": "code",
      "source": [
        "pip install fastapi"
      ],
      "metadata": {
        "colab": {
          "base_uri": "https://localhost:8080/"
        },
        "id": "EmeYs1v3IwEm",
        "outputId": "818a6f1d-2859-465e-fd9c-42bfa4d797ae"
      },
      "execution_count": 1,
      "outputs": [
        {
          "output_type": "stream",
          "name": "stdout",
          "text": [
            "Collecting fastapi\n",
            "  Downloading fastapi-0.115.12-py3-none-any.whl.metadata (27 kB)\n",
            "Collecting starlette<0.47.0,>=0.40.0 (from fastapi)\n",
            "  Downloading starlette-0.46.2-py3-none-any.whl.metadata (6.2 kB)\n",
            "Requirement already satisfied: pydantic!=1.8,!=1.8.1,!=2.0.0,!=2.0.1,!=2.1.0,<3.0.0,>=1.7.4 in /usr/local/lib/python3.11/dist-packages (from fastapi) (2.11.4)\n",
            "Requirement already satisfied: typing-extensions>=4.8.0 in /usr/local/lib/python3.11/dist-packages (from fastapi) (4.13.2)\n",
            "Requirement already satisfied: annotated-types>=0.6.0 in /usr/local/lib/python3.11/dist-packages (from pydantic!=1.8,!=1.8.1,!=2.0.0,!=2.0.1,!=2.1.0,<3.0.0,>=1.7.4->fastapi) (0.7.0)\n",
            "Requirement already satisfied: pydantic-core==2.33.2 in /usr/local/lib/python3.11/dist-packages (from pydantic!=1.8,!=1.8.1,!=2.0.0,!=2.0.1,!=2.1.0,<3.0.0,>=1.7.4->fastapi) (2.33.2)\n",
            "Requirement already satisfied: typing-inspection>=0.4.0 in /usr/local/lib/python3.11/dist-packages (from pydantic!=1.8,!=1.8.1,!=2.0.0,!=2.0.1,!=2.1.0,<3.0.0,>=1.7.4->fastapi) (0.4.0)\n",
            "Requirement already satisfied: anyio<5,>=3.6.2 in /usr/local/lib/python3.11/dist-packages (from starlette<0.47.0,>=0.40.0->fastapi) (4.9.0)\n",
            "Requirement already satisfied: idna>=2.8 in /usr/local/lib/python3.11/dist-packages (from anyio<5,>=3.6.2->starlette<0.47.0,>=0.40.0->fastapi) (3.10)\n",
            "Requirement already satisfied: sniffio>=1.1 in /usr/local/lib/python3.11/dist-packages (from anyio<5,>=3.6.2->starlette<0.47.0,>=0.40.0->fastapi) (1.3.1)\n",
            "Downloading fastapi-0.115.12-py3-none-any.whl (95 kB)\n",
            "\u001b[2K   \u001b[90m━━━━━━━━━━━━━━━━━━━━━━━━━━━━━━━━━━━━━━━━\u001b[0m \u001b[32m95.2/95.2 kB\u001b[0m \u001b[31m5.9 MB/s\u001b[0m eta \u001b[36m0:00:00\u001b[0m\n",
            "\u001b[?25hDownloading starlette-0.46.2-py3-none-any.whl (72 kB)\n",
            "\u001b[2K   \u001b[90m━━━━━━━━━━━━━━━━━━━━━━━━━━━━━━━━━━━━━━━━\u001b[0m \u001b[32m72.0/72.0 kB\u001b[0m \u001b[31m6.4 MB/s\u001b[0m eta \u001b[36m0:00:00\u001b[0m\n",
            "\u001b[?25hInstalling collected packages: starlette, fastapi\n",
            "Successfully installed fastapi-0.115.12 starlette-0.46.2\n"
          ]
        }
      ]
    },
    {
      "cell_type": "code",
      "source": [
        "pip install wolframalpha"
      ],
      "metadata": {
        "colab": {
          "base_uri": "https://localhost:8080/"
        },
        "id": "pFtlIMi1I42A",
        "outputId": "059c5762-50e9-4e1f-f89e-a655cc64ea41"
      },
      "execution_count": 2,
      "outputs": [
        {
          "output_type": "stream",
          "name": "stdout",
          "text": [
            "Collecting wolframalpha\n",
            "  Downloading wolframalpha-5.1.3-py3-none-any.whl.metadata (2.4 kB)\n",
            "Collecting xmltodict (from wolframalpha)\n",
            "  Downloading xmltodict-0.14.2-py2.py3-none-any.whl.metadata (8.0 kB)\n",
            "Requirement already satisfied: more-itertools in /usr/local/lib/python3.11/dist-packages (from wolframalpha) (10.7.0)\n",
            "Requirement already satisfied: jaraco.context in /usr/local/lib/python3.11/dist-packages (from wolframalpha) (6.0.1)\n",
            "Requirement already satisfied: httpx in /usr/local/lib/python3.11/dist-packages (from wolframalpha) (0.28.1)\n",
            "Requirement already satisfied: multidict in /usr/local/lib/python3.11/dist-packages (from wolframalpha) (6.4.3)\n",
            "Requirement already satisfied: anyio in /usr/local/lib/python3.11/dist-packages (from httpx->wolframalpha) (4.9.0)\n",
            "Requirement already satisfied: certifi in /usr/local/lib/python3.11/dist-packages (from httpx->wolframalpha) (2025.4.26)\n",
            "Requirement already satisfied: httpcore==1.* in /usr/local/lib/python3.11/dist-packages (from httpx->wolframalpha) (1.0.9)\n",
            "Requirement already satisfied: idna in /usr/local/lib/python3.11/dist-packages (from httpx->wolframalpha) (3.10)\n",
            "Requirement already satisfied: h11>=0.16 in /usr/local/lib/python3.11/dist-packages (from httpcore==1.*->httpx->wolframalpha) (0.16.0)\n",
            "Requirement already satisfied: backports.tarfile in /usr/local/lib/python3.11/dist-packages (from jaraco.context->wolframalpha) (1.2.0)\n",
            "Requirement already satisfied: sniffio>=1.1 in /usr/local/lib/python3.11/dist-packages (from anyio->httpx->wolframalpha) (1.3.1)\n",
            "Requirement already satisfied: typing_extensions>=4.5 in /usr/local/lib/python3.11/dist-packages (from anyio->httpx->wolframalpha) (4.13.2)\n",
            "Downloading wolframalpha-5.1.3-py3-none-any.whl (6.3 kB)\n",
            "Downloading xmltodict-0.14.2-py2.py3-none-any.whl (10.0 kB)\n",
            "Installing collected packages: xmltodict, wolframalpha\n",
            "Successfully installed wolframalpha-5.1.3 xmltodict-0.14.2\n"
          ]
        }
      ]
    },
    {
      "cell_type": "code",
      "source": [
        "from fastapi import FastAPI, Request, HTTPException\n",
        "from fastapi.responses import HTMLResponse, JSONResponse\n",
        "from fastapi.templating import Jinja2Templates\n",
        "from fastapi.staticfiles import StaticFiles\n",
        "import json\n",
        "import sympy as sp\n",
        "from sympy.parsing.sympy_parser import parse_expr\n",
        "from pathlib import Path\n",
        "from sklearn.feature_extraction.text import TfidfVectorizer\n",
        "from sklearn.svm import SVC\n",
        "import wolframalpha\n",
        "import logging\n",
        "import asyncio\n",
        "import nest_asyncio\n",
        "from google.colab import drive"
      ],
      "metadata": {
        "id": "Uo2zUZC3IVsq"
      },
      "execution_count": 3,
      "outputs": []
    },
    {
      "cell_type": "code",
      "source": [
        "# Configuración inicial para Colab\n",
        "nest_asyncio.apply()\n",
        "drive.mount('/content/drive')\n",
        "\n",
        "# Configuración de logging\n",
        "logging.basicConfig(level=logging.INFO)\n",
        "logger = logging.getLogger(__name__)"
      ],
      "metadata": {
        "colab": {
          "base_uri": "https://localhost:8080/"
        },
        "id": "_i0saTLCJSe5",
        "outputId": "ab609324-c326-4f0d-a516-274c1ad846b8"
      },
      "execution_count": 4,
      "outputs": [
        {
          "output_type": "stream",
          "name": "stdout",
          "text": [
            "Mounted at /content/drive\n"
          ]
        }
      ]
    },
    {
      "cell_type": "code",
      "source": [
        "class CerebroCalculusColab:\n",
        "    def __init__(self, db_path=\"/content/drive/MyDrive/Proyecto_Math/calculus_db.json\"):\n",
        "        self.db_path = Path(db_path)\n",
        "        self.bd = self.cargar_bd()\n",
        "        self.constantes = self.bd.get(\"constantes\", {})\n",
        "        self.historial = []\n",
        "        self.cache = {}\n",
        "        self.entrenar_modelo()\n",
        "        self.wolfram_client = None\n",
        "        self.configurar_wolfram()\n",
        "\n",
        "    def cargar_bd(self):\n",
        "        \"\"\"Carga la base de datos con manejo robusto de errores\"\"\"\n",
        "        try:\n",
        "            with open(self.db_path, 'r', encoding='utf-8') as f:\n",
        "                bd = json.load(f)\n",
        "                if \"derivadas\" not in bd or \"ejemplos_entrenamiento\" not in bd:\n",
        "                    raise ValueError(\"Estructura de BD inválida\")\n",
        "                return bd\n",
        "        except Exception as e:\n",
        "            logger.error(f\"Error cargando BD: {str(e)}\")\n",
        "            return {\n",
        "                \"constantes\": {\"π\": 3.1416, \"e\": 2.7183},\n",
        "                \"derivadas\": {\"tabla_completa\": {}},\n",
        "                \"ejemplos_entrenamiento\": []\n",
        "            }\n",
        "\n",
        "    def entrenar_modelo(self):\n",
        "        \"\"\"Entrena el clasificador de problemas matemáticos\"\"\"\n",
        "        ejemplos = self.bd.get(\"ejemplos_entrenamiento\", [])\n",
        "        if len(ejemplos) < 3:\n",
        "            logger.warning(\"Insuficientes datos de entrenamiento. Usando clasificador básico.\")\n",
        "            self.modelo = None\n",
        "            return\n",
        "\n",
        "        try:\n",
        "            vectorizer = TfidfVectorizer()\n",
        "            X = vectorizer.fit_transform([e[\"input\"] for e in ejemplos])\n",
        "            y = [e[\"tipo\"] for e in ejemplos]\n",
        "\n",
        "            self.modelo = SVC(kernel='linear')\n",
        "            self.modelo.fit(X, y)\n",
        "            self.vectorizer = vectorizer\n",
        "            logger.info(f\"Modelo entrenado con {len(ejemplos)} ejemplos\")\n",
        "        except Exception as e:\n",
        "            logger.error(f\"Error entrenando modelo: {str(e)}\")\n",
        "            self.modelo = None\n",
        "\n",
        "    def configurar_wolfram(self, api_key=\"9EW5A6-VTQKYPA9JH\"):\n",
        "        \"\"\"Configura Wolfram Alpha\"\"\"\n",
        "        try:\n",
        "            self.wolfram_client = wolframalpha.Client(api_key)\n",
        "            logger.info(\"Wolfram Alpha configurado\")\n",
        "        except Exception as e:\n",
        "            logger.error(f\"Error configurando Wolfram: {str(e)}\")\n",
        "            self.wolfram_client = None\n",
        "\n",
        "    async def resolver_async(self, consulta: str):\n",
        "        \"\"\"Versión asíncrona del resolver con caché\"\"\"\n",
        "        if consulta in self.cache:\n",
        "            logger.info(f\"Usando caché para: {consulta}\")\n",
        "            return self.cache[consulta]\n",
        "\n",
        "        try:\n",
        "            resultado = await asyncio.to_thread(self.resolver, consulta)\n",
        "            self.historial.append({\"consulta\": consulta, \"resultado\": resultado})\n",
        "            self.cache[consulta] = resultado\n",
        "            return resultado\n",
        "        except Exception as e:\n",
        "            logger.error(f\"Error procesando {consulta}: {str(e)}\")\n",
        "            raise HTTPException(status_code=400, detail=str(e))\n",
        "\n",
        "    def resolver(self, consulta):\n",
        "        \"\"\"Resuelve problemas con fallback a Wolfram Alpha\"\"\"\n",
        "        try:\n",
        "            tipo = self.clasificar_consulta(consulta)\n",
        "\n",
        "            if tipo == \"derivada\":\n",
        "                resultado = self.resolver_derivada(consulta)\n",
        "            elif tipo == \"limite\":\n",
        "                resultado = self.resolver_limite(consulta)\n",
        "            elif tipo == \"integral\":\n",
        "                resultado = self.resolver_integral(consulta)\n",
        "            else:\n",
        "                raise ValueError(\"Tipo de operación no soportado\")\n",
        "\n",
        "            return {\n",
        "                \"problema\": consulta,\n",
        "                \"solucion\": str(resultado['solucion']),\n",
        "                \"metodo\": resultado.get('metodo', 'SymPy'),\n",
        "                \"pasos\": resultado.get('pasos', [\"Proceso completado\"]),\n",
        "                \"tipo\": tipo\n",
        "            }\n",
        "\n",
        "        except Exception as e:\n",
        "            if self.wolfram_client:\n",
        "                try:\n",
        "                    return self.resolver_con_wolfram(consulta)\n",
        "                except Exception as wolfram_error:\n",
        "                    raise ValueError(f\"Error local y en Wolfram: {str(wolfram_error)}\")\n",
        "            raise ValueError(f\"Error: {str(e)}\")\n",
        "\n",
        "    def resolver_derivada(self, consulta):\n",
        "        \"\"\"Resuelve derivadas con BD local o SymPy\"\"\"\n",
        "        try:\n",
        "            expr_str = consulta.split(\"derivar\")[1].strip()\n",
        "            expr_limpia = self.preprocesar_expresion(expr_str)\n",
        "\n",
        "            # Buscar en tabla de derivadas\n",
        "            tabla = self.bd.get(\"derivadas\", {}).get(\"tabla_completa\", {})\n",
        "            if expr_str in tabla:\n",
        "                return {\n",
        "                    \"problema\": consulta,\n",
        "                    \"solucion\": tabla[expr_str],\n",
        "                    \"metodo\": \"BD (tabla)\",\n",
        "                    \"pasos\": [f\"Derivada directa de {expr_str}\"]\n",
        "                }\n",
        "\n",
        "            # Resolver con SymPy\n",
        "            x = sp.symbols('x')\n",
        "            expr = parse_expr(expr_limpia)\n",
        "            derivada = sp.diff(expr, x)\n",
        "\n",
        "            return {\n",
        "                \"problema\": consulta,\n",
        "                \"solucion\": str(derivada),\n",
        "                \"metodo\": \"SymPy\",\n",
        "                \"pasos\": [\n",
        "                    f\"1. Expresión: {expr}\",\n",
        "                    \"2. Aplicando reglas de derivación...\",\n",
        "                    f\"3. Resultado: {derivada}\"\n",
        "                ]\n",
        "            }\n",
        "        except Exception as e:\n",
        "            raise ValueError(f\"No se pudo resolver la derivada: {str(e)}\")\n",
        "    def resolver_con_wolfram(self, consulta):\n",
        "        \"\"\"Consulta a Wolfram Alpha\"\"\"\n",
        "        try:\n",
        "            res = self.wolfram_client.query(consulta)\n",
        "            wolfram_result = next(res.results).text\n",
        "\n",
        "            return {\n",
        "                \"problema\": consulta,\n",
        "                \"solucion\": wolfram_result,\n",
        "                \"metodo\": \"Wolfram Alpha\",\n",
        "                \"pasos\": [\"Consulta externa a Wolfram Alpha\"],\n",
        "                \"detalles_wolfram\": str(res.details)  # Información adicional\n",
        "            }\n",
        "        except Exception as e:\n",
        "            raise ValueError(f\"Error consultando Wolfram Alpha: {str(e)}\")\n",
        "    def preprocesar_expresion(self, expr):\n",
        "        \"\"\"Formatea la expresión para SymPy\"\"\"\n",
        "        # Reemplaza constantes conocidas\n",
        "        for const, val in self.constantes.items():\n",
        "            expr = expr.replace(const, str(val))\n",
        "\n",
        "        # Reemplaza notación matemática\n",
        "        expr = (expr.replace(\"^\", \"**\")\n",
        "                .replace(\"sen(\", \"sin(\")\n",
        "                .replace(\"π\", \"pi\"))\n",
        "\n",
        "        # Manejo de espacios en expresiones como \"x 2\" -> \"x*2\"\n",
        "        expr = ''.join(c if c.isalnum() else f'*{c}' if c.isspace() else c for c in expr)\n",
        "\n",
        "        return expr\n",
        "    def resolver_limite(self, consulta):\n",
        "        \"\"\"Resuelve límites matemáticos\"\"\"\n",
        "        try:\n",
        "            # Extraer componentes de la consulta\n",
        "            if \"cuando\" in consulta:\n",
        "                expr_part, lim_part = consulta.split(\"cuando\")\n",
        "                expr_str = expr_part.replace(\"limite\", \"\").strip()\n",
        "                var, valor = lim_part.strip().split(\"->\")\n",
        "            else:\n",
        "                expr_str = consulta.replace(\"limite\", \"\").strip()\n",
        "                var, valor = \"x\", \"0\"  # Valores por defecto\n",
        "\n",
        "            # Procesar expresión\n",
        "            expr_limpia = self.preprocesar_expresion(expr_str)\n",
        "            x = sp.symbols(var.strip())\n",
        "            punto = parse_expr(valor.strip())\n",
        "\n",
        "            # Calcular límite\n",
        "            limite = sp.limit(parse_expr(expr_limpia), x, punto)\n",
        "\n",
        "            return {\n",
        "                \"problema\": consulta,\n",
        "                \"solucion\": str(limite),\n",
        "                \"metodo\": \"SymPy (límite)\",\n",
        "                \"pasos\": [\n",
        "                    f\"1. Expresión: {expr_limpia}\",\n",
        "                    f\"2. Variable: {var.strip()} -> {valor.strip()}\",\n",
        "                    f\"3. Resultado: {limite}\"\n",
        "                ]\n",
        "            }\n",
        "        except Exception as e:\n",
        "            raise ValueError(f\"No se pudo resolver el límite: {str(e)}\")"
      ],
      "metadata": {
        "id": "UZ2tT902JtTL"
      },
      "execution_count": 5,
      "outputs": []
    },
    {
      "cell_type": "code",
      "source": [
        "import os\n",
        "if not os.path.exists('static'):\n",
        "    os.makedirs('static')\n",
        "\n",
        "app = FastAPI()\n",
        "templates = Jinja2Templates(directory=\"templates\")\n",
        "app.mount(\"/static\", StaticFiles(directory=\"static\"), name=\"static\")\n",
        "\n",
        "# Inicialización del cerebro de cálculo\n",
        "cerebro = CerebroCalculusColab()\n",
        "\n",
        "@app.get(\"/\", response_class=HTMLResponse)\n",
        "async def interfaz_web(request: Request):\n",
        "    return templates.TemplateResponse(\"index_colab.html\", {\n",
        "        \"request\": request,\n",
        "        \"results\": [],\n",
        "        \"historial\": cerebro.historial[-5:]\n",
        "    })\n",
        "\n",
        "@app.post(\"/api/calculate\")\n",
        "async def calcular(consulta: str):\n",
        "    try:\n",
        "        resultado = await cerebro.resolver_async(consulta)\n",
        "        return JSONResponse(resultado)\n",
        "    except HTTPException as e:\n",
        "        return JSONResponse({\"error\": e.detail}, status_code=e.status_code)"
      ],
      "metadata": {
        "id": "EMO1TdUjLXFH"
      },
      "execution_count": 6,
      "outputs": []
    },
    {
      "cell_type": "code",
      "source": [
        "# Configuración especial para Colab\n",
        "def run_in_colab():\n",
        "    from pyngrok import ngrok\n",
        "    import uvicorn\n",
        "    import threading\n",
        "\n",
        "    # Configurar ngrok\n",
        "    ngrok_tunnel = ngrok.connect(8501)\n",
        "    print(f\"Accede a la interfaz web en: {ngrok_tunnel.public_url}\")\n",
        "\n",
        "    # Iniciar servidor Uvicorn en segundo plano\n",
        "    threading.Thread(target=uvicorn.run,\n",
        "                    args=(app,),\n",
        "                    kwargs={\"host\": \"0.0.0.0\", \"port\": 8501},\n",
        "                    daemon=True).start()\n",
        "\n",
        "# Crear estructura de archivos necesaria\n",
        "!mkdir -p templates static\n",
        "!pip install fastapi uvicorn pyngrok nest-asyncio sympy scikit-learn wolframalpha"
      ],
      "metadata": {
        "colab": {
          "base_uri": "https://localhost:8080/"
        },
        "id": "HDu7vAzOL1r_",
        "outputId": "998f7785-7f0a-496f-9b4f-b495b946de9b"
      },
      "execution_count": 7,
      "outputs": [
        {
          "output_type": "stream",
          "name": "stdout",
          "text": [
            "Requirement already satisfied: fastapi in /usr/local/lib/python3.11/dist-packages (0.115.12)\n",
            "Collecting uvicorn\n",
            "  Downloading uvicorn-0.34.2-py3-none-any.whl.metadata (6.5 kB)\n",
            "Collecting pyngrok\n",
            "  Downloading pyngrok-7.2.8-py3-none-any.whl.metadata (10 kB)\n",
            "Requirement already satisfied: nest-asyncio in /usr/local/lib/python3.11/dist-packages (1.6.0)\n",
            "Requirement already satisfied: sympy in /usr/local/lib/python3.11/dist-packages (1.13.1)\n",
            "Requirement already satisfied: scikit-learn in /usr/local/lib/python3.11/dist-packages (1.6.1)\n",
            "Requirement already satisfied: wolframalpha in /usr/local/lib/python3.11/dist-packages (5.1.3)\n",
            "Requirement already satisfied: starlette<0.47.0,>=0.40.0 in /usr/local/lib/python3.11/dist-packages (from fastapi) (0.46.2)\n",
            "Requirement already satisfied: pydantic!=1.8,!=1.8.1,!=2.0.0,!=2.0.1,!=2.1.0,<3.0.0,>=1.7.4 in /usr/local/lib/python3.11/dist-packages (from fastapi) (2.11.4)\n",
            "Requirement already satisfied: typing-extensions>=4.8.0 in /usr/local/lib/python3.11/dist-packages (from fastapi) (4.13.2)\n",
            "Requirement already satisfied: click>=7.0 in /usr/local/lib/python3.11/dist-packages (from uvicorn) (8.2.0)\n",
            "Requirement already satisfied: h11>=0.8 in /usr/local/lib/python3.11/dist-packages (from uvicorn) (0.16.0)\n",
            "Requirement already satisfied: PyYAML>=5.1 in /usr/local/lib/python3.11/dist-packages (from pyngrok) (6.0.2)\n",
            "Requirement already satisfied: mpmath<1.4,>=1.1.0 in /usr/local/lib/python3.11/dist-packages (from sympy) (1.3.0)\n",
            "Requirement already satisfied: numpy>=1.19.5 in /usr/local/lib/python3.11/dist-packages (from scikit-learn) (2.0.2)\n",
            "Requirement already satisfied: scipy>=1.6.0 in /usr/local/lib/python3.11/dist-packages (from scikit-learn) (1.15.3)\n",
            "Requirement already satisfied: joblib>=1.2.0 in /usr/local/lib/python3.11/dist-packages (from scikit-learn) (1.5.0)\n",
            "Requirement already satisfied: threadpoolctl>=3.1.0 in /usr/local/lib/python3.11/dist-packages (from scikit-learn) (3.6.0)\n",
            "Requirement already satisfied: xmltodict in /usr/local/lib/python3.11/dist-packages (from wolframalpha) (0.14.2)\n",
            "Requirement already satisfied: more-itertools in /usr/local/lib/python3.11/dist-packages (from wolframalpha) (10.7.0)\n",
            "Requirement already satisfied: jaraco.context in /usr/local/lib/python3.11/dist-packages (from wolframalpha) (6.0.1)\n",
            "Requirement already satisfied: httpx in /usr/local/lib/python3.11/dist-packages (from wolframalpha) (0.28.1)\n",
            "Requirement already satisfied: multidict in /usr/local/lib/python3.11/dist-packages (from wolframalpha) (6.4.3)\n",
            "Requirement already satisfied: annotated-types>=0.6.0 in /usr/local/lib/python3.11/dist-packages (from pydantic!=1.8,!=1.8.1,!=2.0.0,!=2.0.1,!=2.1.0,<3.0.0,>=1.7.4->fastapi) (0.7.0)\n",
            "Requirement already satisfied: pydantic-core==2.33.2 in /usr/local/lib/python3.11/dist-packages (from pydantic!=1.8,!=1.8.1,!=2.0.0,!=2.0.1,!=2.1.0,<3.0.0,>=1.7.4->fastapi) (2.33.2)\n",
            "Requirement already satisfied: typing-inspection>=0.4.0 in /usr/local/lib/python3.11/dist-packages (from pydantic!=1.8,!=1.8.1,!=2.0.0,!=2.0.1,!=2.1.0,<3.0.0,>=1.7.4->fastapi) (0.4.0)\n",
            "Requirement already satisfied: anyio<5,>=3.6.2 in /usr/local/lib/python3.11/dist-packages (from starlette<0.47.0,>=0.40.0->fastapi) (4.9.0)\n",
            "Requirement already satisfied: certifi in /usr/local/lib/python3.11/dist-packages (from httpx->wolframalpha) (2025.4.26)\n",
            "Requirement already satisfied: httpcore==1.* in /usr/local/lib/python3.11/dist-packages (from httpx->wolframalpha) (1.0.9)\n",
            "Requirement already satisfied: idna in /usr/local/lib/python3.11/dist-packages (from httpx->wolframalpha) (3.10)\n",
            "Requirement already satisfied: backports.tarfile in /usr/local/lib/python3.11/dist-packages (from jaraco.context->wolframalpha) (1.2.0)\n",
            "Requirement already satisfied: sniffio>=1.1 in /usr/local/lib/python3.11/dist-packages (from anyio<5,>=3.6.2->starlette<0.47.0,>=0.40.0->fastapi) (1.3.1)\n",
            "Downloading uvicorn-0.34.2-py3-none-any.whl (62 kB)\n",
            "\u001b[2K   \u001b[90m━━━━━━━━━━━━━━━━━━━━━━━━━━━━━━━━━━━━━━━━\u001b[0m \u001b[32m62.5/62.5 kB\u001b[0m \u001b[31m4.6 MB/s\u001b[0m eta \u001b[36m0:00:00\u001b[0m\n",
            "\u001b[?25hDownloading pyngrok-7.2.8-py3-none-any.whl (25 kB)\n",
            "Installing collected packages: uvicorn, pyngrok\n",
            "Successfully installed pyngrok-7.2.8 uvicorn-0.34.2\n"
          ]
        }
      ]
    },
    {
      "cell_type": "code",
      "source": [
        "!mkdir -p templates static"
      ],
      "metadata": {
        "id": "nupoqvXQPUaH"
      },
      "execution_count": 8,
      "outputs": []
    },
    {
      "cell_type": "code",
      "source": [
        "!pip install bootstrap-icons"
      ],
      "metadata": {
        "colab": {
          "base_uri": "https://localhost:8080/"
        },
        "id": "ExWdtqZ1PWzc",
        "outputId": "667837d0-2195-4288-e4ba-6e3e3d53ae8f"
      },
      "execution_count": 9,
      "outputs": [
        {
          "output_type": "stream",
          "name": "stdout",
          "text": [
            "\u001b[31mERROR: Could not find a version that satisfies the requirement bootstrap-icons (from versions: none)\u001b[0m\u001b[31m\n",
            "\u001b[0m\u001b[31mERROR: No matching distribution found for bootstrap-icons\u001b[0m\u001b[31m\n",
            "\u001b[0m"
          ]
        }
      ]
    },
    {
      "cell_type": "code",
      "source": [
        "%%writefile templates/index_colab.html\n",
        "<!DOCTYPE html>\n",
        "<html lang=\"es\">\n",
        "<head>\n",
        "    <meta charset=\"UTF-8\">\n",
        "    <meta name=\"viewport\" content=\"width=device-width, initial-scale=1.0\">\n",
        "    <meta name=\"description\" content=\"Sistema inteligente para resolver problemas matemáticos avanzados\">\n",
        "\n",
        "    <!-- Favicon (asegúrate de tener el archivo favicon.ico en /static) -->\n",
        "    <link rel=\"icon\" href=\"/static/favicon.ico\" type=\"image/x-icon\">\n",
        "\n",
        "    <!-- Bootstrap Icons -->\n",
        "    <link rel=\"stylesheet\" href=\"https://cdn.jsdelivr.net/npm/bootstrap-icons@1.10.0/font/bootstrap-icons.css\">\n",
        "\n",
        "    <!-- Tu hoja de estilos -->\n",
        "    <link rel=\"stylesheet\" href=\"/static/style.css\">\n",
        "\n",
        "    <title>Cerebro de Cálculo - Proyecto de Título</title>\n",
        "</head>\n",
        "<body>\n",
        "    <div class=\"container\">\n",
        "        <header class=\"header\">\n",
        "            <h1><i class=\"bi bi-calculator\"></i> Cerebro de Cálculo</h1>\n",
        "            <p class=\"subtitle\">Proyecto de Título - [Tu Nombre]</p>\n",
        "        </header>\n",
        "\n",
        "        <main class=\"main-content\">\n",
        "            <section class=\"input-section\">\n",
        "                <form id=\"calc-form\" class=\"math-form\">\n",
        "                    <div class=\"form-group\">\n",
        "                        <label for=\"consulta\" class=\"form-label\">\n",
        "                            <i class=\"bi bi-pencil-square\"></i> Ingrese su problema matemático:\n",
        "                        </label>\n",
        "                        <textarea id=\"consulta\" class=\"form-input\" rows=\"3\"\n",
        "                                  placeholder=\"Ejemplos:&#10;• derivar x^2 + sin(x)&#10;• integrar 3x^2 + 2x&#10;• limite (x^2-1)/(x-1) cuando x->1\"\n",
        "                                  required></textarea>\n",
        "                    </div>\n",
        "                    <button type=\"submit\" class=\"submit-btn\">\n",
        "                        <i class=\"bi bi-gear\"></i> Resolver\n",
        "                    </button>\n",
        "                </form>\n",
        "            </section>\n",
        "\n",
        "            <section class=\"results-section\">\n",
        "                <h2 class=\"section-title\"><i class=\"bi bi-graph-up\"></i> Resultados</h2>\n",
        "                <div id=\"result-container\" class=\"result-container\">\n",
        "                    <!-- Los resultados aparecerán aquí dinámicamente -->\n",
        "                    <div class=\"placeholder\">\n",
        "                        <i class=\"bi bi-arrow-up-circle\"></i>\n",
        "                        <p>Ingresa un problema matemático para ver la solución</p>\n",
        "                    </div>\n",
        "                </div>\n",
        "            </section>\n",
        "        </main>\n",
        "\n",
        "        <footer class=\"footer\">\n",
        "            <p>Sistema desarrollado como proyecto de título - © 2023</p>\n",
        "        </footer>\n",
        "    </div>\n",
        "\n",
        "    <!-- JavaScript -->\n",
        "    <script src=\"/static/main.js\"></script>\n",
        "</body>\n",
        "</html>"
      ],
      "metadata": {
        "colab": {
          "base_uri": "https://localhost:8080/"
        },
        "id": "n6kZwa6PMAST",
        "outputId": "8697791a-0110-424f-96d3-ce443f07c9f4"
      },
      "execution_count": 10,
      "outputs": [
        {
          "output_type": "stream",
          "name": "stdout",
          "text": [
            "Writing templates/index_colab.html\n"
          ]
        }
      ]
    },
    {
      "cell_type": "code",
      "source": [
        "if __name__ == \"__main__\":\n",
        "    try:\n",
        "        print(\"🚀 Iniciando Cerebro de Cálculo...\")\n",
        "        run_in_colab()\n",
        "\n",
        "        # Mantener el notebook activo\n",
        "        while True:\n",
        "            pass\n",
        "\n",
        "    except KeyboardInterrupt:\n",
        "        print(\"\\n🛑 Servidor detenido\")\n",
        "    except Exception as e:\n",
        "        print(f\"❌ Error: {str(e)}\")"
      ],
      "metadata": {
        "colab": {
          "base_uri": "https://localhost:8080/"
        },
        "id": "f9lr1Lv5MEIv",
        "outputId": "2fe2d763-4586-4133-fd73-3721cef79c17"
      },
      "execution_count": 11,
      "outputs": [
        {
          "output_type": "stream",
          "name": "stdout",
          "text": [
            "🚀 Iniciando Cerebro de Cálculo...\n"
          ]
        },
        {
          "output_type": "stream",
          "name": "stderr",
          "text": [
            "ERROR:pyngrok.process.ngrok:t=2025-05-15T22:40:56+0000 lvl=eror msg=\"failed to reconnect session\" obj=tunnels.session err=\"authentication failed: Usage of ngrok requires a verified account and authtoken.\\n\\nSign up for an account: https://dashboard.ngrok.com/signup\\nInstall your authtoken: https://dashboard.ngrok.com/get-started/your-authtoken\\r\\n\\r\\nERR_NGROK_4018\\r\\n\"\n",
            "ERROR:pyngrok.process.ngrok:t=2025-05-15T22:40:56+0000 lvl=eror msg=\"session closing\" obj=tunnels.session err=\"authentication failed: Usage of ngrok requires a verified account and authtoken.\\n\\nSign up for an account: https://dashboard.ngrok.com/signup\\nInstall your authtoken: https://dashboard.ngrok.com/get-started/your-authtoken\\r\\n\\r\\nERR_NGROK_4018\\r\\n\"\n",
            "ERROR:pyngrok.process.ngrok:t=2025-05-15T22:40:56+0000 lvl=eror msg=\"terminating with error\" obj=app err=\"authentication failed: Usage of ngrok requires a verified account and authtoken.\\n\\nSign up for an account: https://dashboard.ngrok.com/signup\\nInstall your authtoken: https://dashboard.ngrok.com/get-started/your-authtoken\\r\\n\\r\\nERR_NGROK_4018\\r\\n\"\n",
            "CRITICAL:pyngrok.process.ngrok:t=2025-05-15T22:40:56+0000 lvl=crit msg=\"command failed\" err=\"authentication failed: Usage of ngrok requires a verified account and authtoken.\\n\\nSign up for an account: https://dashboard.ngrok.com/signup\\nInstall your authtoken: https://dashboard.ngrok.com/get-started/your-authtoken\\r\\n\\r\\nERR_NGROK_4018\\r\\n\"\n",
            "WARNING:pyngrok.process.ngrok:t=2025-05-15T22:40:56+0000 lvl=warn msg=\"failed to check for update\" obj=updater err=\"Post \\\"https://update.equinox.io/check\\\": context canceled\"\n"
          ]
        },
        {
          "output_type": "stream",
          "name": "stdout",
          "text": [
            "❌ Error: The ngrok process errored on start: authentication failed: Usage of ngrok requires a verified account and authtoken.\\n\\nSign up for an account: https://dashboard.ngrok.com/signup\\nInstall your authtoken: https://dashboard.ngrok.com/get-started/your-authtoken\\r\\n\\r\\nERR_NGROK_4018\\r\\n.\n"
          ]
        }
      ]
    },
    {
      "cell_type": "code",
      "source": [
        "from IPython.display import display, Markdown, Math\n",
        "import sympy as sp\n",
        "from sympy.parsing.sympy_parser import (\n",
        "    parse_expr,\n",
        "    standard_transformations,\n",
        "    implicit_multiplication_application\n",
        ")\n",
        "from datetime import datetime\n",
        "\n",
        "transformations = (standard_transformations + (implicit_multiplication_application,))\n",
        "\n",
        "class DerivadorAvanzado:\n",
        "    def __init__(self, variable='x'):\n",
        "        \"\"\"\n",
        "        Derivador avanzado con soporte para derivadas complejas y explicación detallada.\n",
        "\n",
        "        Args:\n",
        "            variable (str): Variable de derivación (por defecto 'x')\n",
        "        \"\"\"\n",
        "        self.variable = sp.Symbol(variable)\n",
        "        self.historial = []\n",
        "        print(f\"🚀 Derivador Avanzado inicializado (variable: '{variable}')\")\n",
        "        print(\"Métodos soportados:\")\n",
        "        print(\"- Reglas básicas (potencia, suma, producto, cociente)\")\n",
        "        print(\"- Funciones trigonométricas e hiperbólicas\")\n",
        "        print(\"- Funciones exponenciales y logarítmicas\")\n",
        "        print(\"- Derivación implícita\")\n",
        "        print(\"- Derivadas de orden superior\")\n",
        "\n",
        "    def calcular_derivada(self, expresion, orden=1):\n",
        "        \"\"\"\n",
        "        Calcula derivadas con explicación paso a paso.\n",
        "\n",
        "        Args:\n",
        "            expresion (str): Expresión a derivar\n",
        "            orden (int): Orden de derivación (1 para primera derivada, 2 para segunda, etc.)\n",
        "\n",
        "        Returns:\n",
        "            sympy.Expr: Resultado de la derivada\n",
        "        \"\"\"\n",
        "        try:\n",
        "            expr = self._parsear_expresion(expresion)\n",
        "            display(Markdown(f\"### 🔍 Derivando ({orden}° orden): `{expr}`\"))\n",
        "\n",
        "            if orden == 1:\n",
        "                resultado = self._derivar_paso_a_paso(expr)\n",
        "            else:\n",
        "                resultado = self._derivar_orden_superior(expr, orden)\n",
        "\n",
        "            self._agregar_al_historial(expr, resultado, orden)\n",
        "            return resultado\n",
        "\n",
        "        except Exception as e:\n",
        "            display(Markdown(f\"❌ **Error:** `{str(e)}`\"))\n",
        "            return None\n",
        "\n",
        "    # ========== MÉTODOS PRINCIPALES DE DERIVACIÓN ==========\n",
        "    def _derivar_paso_a_paso(self, expr):\n",
        "        \"\"\"Calcula la derivada mostrando cada paso con reglas aplicadas.\"\"\"\n",
        "        x = self.variable\n",
        "\n",
        "        # Casos especiales primero\n",
        "        if self._necesita_regla_cadena(expr):\n",
        "            return self._aplicar_regla_cadena(expr)\n",
        "        elif self._necesita_regla_producto(expr):\n",
        "            return self._aplicar_regla_producto(expr)\n",
        "        elif self._necesita_regla_cociente(expr):\n",
        "            return self._aplicar_regla_cociente(expr)\n",
        "\n",
        "        # Descomposición por términos\n",
        "        if expr.is_Add:\n",
        "            display(Markdown(\"**Paso 1:** Descomponer en términos:\"))\n",
        "            terminos = expr.args\n",
        "        else:\n",
        "            terminos = [expr]\n",
        "\n",
        "        resultados = []\n",
        "        reglas_usadas = set()\n",
        "\n",
        "        for term in terminos:\n",
        "            display(Markdown(f\"\\n**Término:** `{term}`\"))\n",
        "\n",
        "            if term.is_constant():\n",
        "                derivada = 0\n",
        "                regla = \"Regla de la constante: d/dx[c] = 0\"\n",
        "            elif term.is_Pow:\n",
        "                derivada, regla = self._derivar_potencia(term)\n",
        "            elif term.has(sp.sin, sp.cos, sp.tan):\n",
        "                derivada, regla = self._derivar_trigonometrica(term)\n",
        "            elif term.has(sp.exp):\n",
        "                derivada, regla = self._derivar_exponencial(term)\n",
        "            elif term.has(sp.log):\n",
        "                derivada, regla = self._derivar_logaritmica(term)\n",
        "            else:\n",
        "                derivada = sp.diff(term, x)\n",
        "                regla = \"Derivada directa\"\n",
        "\n",
        "            display(Markdown(f\"**Regla aplicada:** {regla}\"))\n",
        "            display(Markdown(f\"**Resultado parcial:** `{derivada}`\"))\n",
        "            resultados.append(derivada)\n",
        "            reglas_usadas.add(regla)\n",
        "\n",
        "        # Combinar resultados\n",
        "        derivada_total = sum(resultados)\n",
        "        display(Markdown(f\"\\n**Paso 2:** Combinar derivadas parciales:\"))\n",
        "        display(Math(f\"{' + '.join([sp.latex(r) for r in resultados])} = {sp.latex(derivada_total)}\"))\n",
        "\n",
        "        # Simplificar\n",
        "        derivada_simplificada = sp.simplify(derivada_total)\n",
        "        if derivada_simplificada != derivada_total:\n",
        "            display(Markdown(\"\\n**Paso 3:** Simplificar resultado:\"))\n",
        "            display(Math(f\"{sp.latex(derivada_total)} = {sp.latex(derivada_simplificada)}\"))\n",
        "\n",
        "        # Mostrar reglas usadas\n",
        "        display(Markdown(\"\\n**Reglas aplicadas:**\"))\n",
        "        for regla in reglas_usadas:\n",
        "            display(Markdown(f\"- {regla}\"))\n",
        "\n",
        "        display(Markdown(f\"\\n### 📝 **Derivada final:**\"))\n",
        "        display(Math(f\"\\\\frac{{d}}{{dx}} \\\\left({sp.latex(expr)}\\\\right) = {sp.latex(derivada_simplificada)}\"))\n",
        "\n",
        "        return derivada_simplificada\n",
        "\n",
        "    def _derivar_orden_superior(self, expr, orden):\n",
        "        \"\"\"Calcula derivadas de orden superior.\"\"\"\n",
        "        x = self.variable\n",
        "        derivadas = []\n",
        "        current = expr\n",
        "\n",
        "        for n in range(1, orden+1):\n",
        "            display(Markdown(f\"\\n### 🔄 Calculando {n}° derivada:\"))\n",
        "            derivada = self._derivar_paso_a_paso(current)\n",
        "            derivadas.append(derivada)\n",
        "            current = derivada\n",
        "\n",
        "        display(Markdown(f\"\\n### 📝 **Derivada de orden {orden}:**\"))\n",
        "        display(Math(f\"\\\\frac{{d^{orden}}}{{dx^{orden}}} \\\\left({sp.latex(expr)}\\\\right) = {sp.latex(derivadas[-1])}\"))\n",
        "\n",
        "        return derivadas[-1]\n",
        "\n",
        "    # ========== REGLAS ESPECIALES ==========\n",
        "    def _aplicar_regla_cadena(self, expr):\n",
        "        \"\"\"Aplica la regla de la cadena para funciones compuestas.\"\"\"\n",
        "        x = self.variable\n",
        "        f, g = self._identificar_funciones_compuestas(expr)\n",
        "\n",
        "        display(Markdown(\"**🔗 Aplicando regla de la cadena:**\"))\n",
        "        display(Math(f\"\\\\frac{{d}}{{dx}} f(g(x)) = f'(g(x)) \\\\cdot g'(x)\"))\n",
        "\n",
        "        df = sp.diff(f, g)\n",
        "        dg = sp.diff(g, x)\n",
        "        derivada = df * dg\n",
        "\n",
        "        display(Markdown(\"**Paso a paso:**\"))\n",
        "        display(Math(f\"f(g) = {sp.latex(f)}, \\\\quad g(x) = {sp.latex(g)}\"))\n",
        "        display(Math(f\"f'(g) = {sp.latex(df)}, \\\\quad g'(x) = {sp.latex(dg)}\"))\n",
        "        display(Math(f\"\\\\Rightarrow {sp.latex(df)} \\\\cdot {sp.latex(dg)} = {sp.latex(derivada)}\"))\n",
        "\n",
        "        return derivada\n",
        "\n",
        "    def _aplicar_regla_producto(self, expr):\n",
        "        \"\"\"Aplica la regla del producto para f(x)*g(x).\"\"\"\n",
        "        x = self.variable\n",
        "        f, g = expr.args\n",
        "\n",
        "        display(Markdown(\"**✖ Aplicando regla del producto:**\"))\n",
        "        display(Math(f\"\\\\frac{{d}}{{dx}} [f(x) \\\\cdot g(x)] = f'(x)g(x) + f(x)g'(x)\"))\n",
        "\n",
        "        df = sp.diff(f, x)\n",
        "        dg = sp.diff(g, x)\n",
        "        derivada = df*g + f*dg\n",
        "\n",
        "        display(Markdown(\"**Paso a paso:**\"))\n",
        "        display(Math(f\"f(x) = {sp.latex(f)}, \\\\quad g(x) = {sp.latex(g)}\"))\n",
        "        display(Math(f\"f'(x) = {sp.latex(df)}, \\\\quad g'(x) = {sp.latex(dg)}\"))\n",
        "        display(Math(f\"\\\\Rightarrow {sp.latex(df)}{sp.latex(g)} + {sp.latex(f)}{sp.latex(dg)} = {sp.latex(derivada)}\"))\n",
        "\n",
        "        return derivada\n",
        "\n",
        "    def _aplicar_regla_cociente(self, expr):\n",
        "        \"\"\"Aplica la regla del cociente para f(x)/g(x).\"\"\"\n",
        "        x = self.variable\n",
        "        f, g = expr.as_numer_denom()\n",
        "\n",
        "        display(Markdown(\"**➗ Aplicando regla del cociente:**\"))\n",
        "        display(Math(f\"\\\\frac{{d}}{{dx}} \\\\left[\\\\frac{{f(x)}}{{g(x)}}\\\\right] = \\\\frac{{f'(x)g(x) - f(x)g'(x)}}{{[g(x)]^2}}\"))\n",
        "\n",
        "        df = sp.diff(f, x)\n",
        "        dg = sp.diff(g, x)\n",
        "        derivada = (df*g - f*dg) / (g**2)\n",
        "\n",
        "        display(Markdown(\"**Paso a paso:**\"))\n",
        "        display(Math(f\"f(x) = {sp.latex(f)}, \\\\quad g(x) = {sp.latex(g)}\"))\n",
        "        display(Math(f\"f'(x) = {sp.latex(df)}, \\\\quad g'(x) = {sp.latex(dg)}\"))\n",
        "        display(Math(f\"\\\\Rightarrow \\\\frac{{{sp.latex(df)}{sp.latex(g)} - {sp.latex(f)}{sp.latex(dg)}}}{{{sp.latex(g)}^2}} = {sp.latex(derivada)}\"))\n",
        "\n",
        "        return derivada\n",
        "\n",
        "    # ========== DETECTORES DE REGLAS ==========\n",
        "    def _necesita_regla_cadena(self, expr):\n",
        "        \"\"\"Identifica funciones compuestas para regla de la cadena.\"\"\"\n",
        "        return any(arg.has(self.variable) for arg in expr.args if expr.is_Function)\n",
        "\n",
        "    def _necesita_regla_producto(self, expr):\n",
        "        \"\"\"Identifica productos de funciones.\"\"\"\n",
        "        return expr.is_Mul and len(expr.args) == 2 and all(arg.has(self.variable) for arg in expr.args)\n",
        "\n",
        "    def _necesita_regla_cociente(self, expr):\n",
        "        \"\"\"Identifica cocientes de funciones.\"\"\"\n",
        "        return expr.is_Pow and expr.exp == -1 or expr.is_Mul and any(arg.is_Pow and arg.exp == -1 for arg in expr.args)\n",
        "\n",
        "    # ========== MÉTODOS PARA TÉRMINOS ESPECÍFICOS ==========\n",
        "    def _derivar_potencia(self, term):\n",
        "        \"\"\"Maneja derivadas de términos con potencias.\"\"\"\n",
        "        x = self.variable\n",
        "        base, exp = term.as_base_exp()\n",
        "\n",
        "        if base == x:\n",
        "            derivada = exp * x**(exp - 1)\n",
        "            regla = f\"Regla de la potencia: d/dx[x^{exp}] = {exp}x^{exp-1}\"\n",
        "        elif base.is_Function:\n",
        "            derivada = exp * base**(exp - 1) * sp.diff(base, x)\n",
        "            regla = \"Regla de la cadena para potencias\"\n",
        "        else:\n",
        "            derivada = term * sp.log(base) * sp.diff(exp, x) if exp.has(x) else 0\n",
        "            regla = \"Derivada de función exponencial general\"\n",
        "\n",
        "        return derivada, regla\n",
        "\n",
        "    def _derivar_trigonometrica(self, term):\n",
        "        \"\"\"Maneja derivadas de funciones trigonométricas.\"\"\"\n",
        "        x = self.variable\n",
        "        func = next(f for f in (sp.sin, sp.cos, sp.tan) if term.has(f(x)))\n",
        "        reglas = {\n",
        "            sp.sin: (sp.cos(x), \"d/dx[sin(x)] = cos(x)\"),\n",
        "            sp.cos: (-sp.sin(x), \"d/dx[cos(x)] = -sin(x)\"),\n",
        "            sp.tan: (1/sp.cos(x)**2, \"d/dx[tan(x)] = sec²(x)\")\n",
        "        }\n",
        "        derivada, regla = reglas[func]\n",
        "\n",
        "        if term.args[0] != x:  # Si es función compuesta\n",
        "            derivada *= sp.diff(term.args[0], x)\n",
        "            regla = f\"Regla de la cadena: {regla}\"\n",
        "\n",
        "        return derivada, regla\n",
        "\n",
        "    def _derivar_exponencial(self, term):\n",
        "        \"\"\"Maneja derivadas de funciones exponenciales.\"\"\"\n",
        "        x = self.variable\n",
        "        base, exp = term.as_base_exp()\n",
        "\n",
        "        if base == sp.E:\n",
        "            derivada = term * sp.diff(exp, x) if exp.has(x) else term\n",
        "            regla = \"d/dx[e^u] = e^u * u'\" if exp.has(x) else \"d/dx[e^x] = e^x\"\n",
        "        else:\n",
        "            derivada = term * sp.log(base) * sp.diff(exp, x) if exp.has(x) else 0\n",
        "            regla = \"d/dx[a^u] = a^u * ln(a) * u'\"\n",
        "\n",
        "        return derivada, regla\n",
        "\n",
        "    def _derivar_logaritmica(self, term):\n",
        "        \"\"\"Maneja derivadas de funciones logarítmicas.\"\"\"\n",
        "        x = self.variable\n",
        "        if term == sp.log(x):\n",
        "            return 1/x, \"d/dx[ln(x)] = 1/x\"\n",
        "        else:\n",
        "            derivada = 1/term.args[0] * sp.diff(term.args[0], x)\n",
        "            return derivada, \"Regla de la cadena para logaritmos\"\n",
        "\n",
        "    # ========== MÉTODOS AUXILIARES ==========\n",
        "    def _parsear_expresion(self, expresion):\n",
        "        \"\"\"Convierte una cadena en expresión SymPy.\"\"\"\n",
        "        expr_str = expresion.replace(\"derivar\", \"\").strip()\n",
        "        return parse_expr(\n",
        "            expr_str,\n",
        "            transformations=transformations,\n",
        "            local_dict={self.variable.name: self.variable}\n",
        "        )\n",
        "\n",
        "    def _agregar_al_historial(self, expr, resultado, orden):\n",
        "        \"\"\"Guarda en el historial con timestamp.\"\"\"\n",
        "        entrada = {\n",
        "            'fecha': datetime.now().strftime(\"%Y-%m-%d %H:%M:%S\"),\n",
        "            'expresion': expr,\n",
        "            'resultado': resultado,\n",
        "            'orden': orden\n",
        "        }\n",
        "        self.historial.append(entrada)\n",
        "\n",
        "    def mostrar_historial(self):\n",
        "        \"\"\"Muestra el historial en formato de tabla.\"\"\"\n",
        "        if not self.historial:\n",
        "            display(Markdown(\"📜 **El historial está vacío.**\"))\n",
        "            return\n",
        "\n",
        "        tabla = \"| # | Fecha | Expresión | Derivada | Orden |\\n|---|---|---|---|---|\\n\"\n",
        "        for idx, item in enumerate(self.historial, 1):\n",
        "            tabla += (\n",
        "                f\"| {idx} | {item['fecha']} | \"\n",
        "                f\"`{item['expresion']}` | \"\n",
        "                f\"`{item['resultado']}` | {item['orden']}° |\\n\"\n",
        "            )\n",
        "        display(Markdown(f\"### 📜 Historial de Derivadas\\n{tabla}\"))\n",
        "\n",
        "    def _identificar_funciones_compuestas(self, expr):\n",
        "        \"\"\"Identifica f(g(x)) para la regla de la cadena.\"\"\"\n",
        "        if expr.is_Function:\n",
        "            return expr.func, expr.args[0]\n",
        "        elif expr.is_Pow:\n",
        "            return expr, expr.base if expr.exp.has(self.variable) else expr.exp\n",
        "        return expr, self.variable\n",
        "\n",
        "\n",
        "# Función para facilitar las derivadas\n",
        "def derivar(expresion, orden=1, variable='x'):\n",
        "    display(Markdown(\"---\"))\n",
        "    derivador = DerivadorAvanzado(variable)\n",
        "    resultado = derivador.calcular_derivada(expresion, orden)\n",
        "    display(Markdown(\"---\"))\n",
        "    return resultado"
      ],
      "metadata": {
        "id": "jC30bjPC3wJ5"
      },
      "execution_count": 4,
      "outputs": []
    },
    {
      "cell_type": "code",
      "source": [
        "# 1. Derivada simple\n",
        "derivar(\"x**3 + 2*x**2 - 5*x + 1\")\n",
        "\n",
        "# 2. Derivada trigonométrica con regla de la cadena\n",
        "derivar(\"sin(3*x**2)\")\n",
        "\n",
        "# 3. Derivada de producto\n",
        "derivar(\"x*e**x\")\n",
        "\n",
        "# 4. Derivada de cociente\n",
        "derivar(\"(x**2 + 1)/(x - 1)\")\n",
        "\n",
        "# 5. Segunda derivada\n",
        "derivar(\"log(x**2 + 1)\", orden=2)"
      ],
      "metadata": {
        "colab": {
          "base_uri": "https://localhost:8080/",
          "height": 1000
        },
        "id": "mj5uD7aGuXeJ",
        "outputId": "a4fcfea6-95ed-485f-816f-94705530c86d"
      },
      "execution_count": 5,
      "outputs": [
        {
          "output_type": "display_data",
          "data": {
            "text/plain": [
              "<IPython.core.display.Markdown object>"
            ],
            "text/markdown": "---"
          },
          "metadata": {}
        },
        {
          "output_type": "stream",
          "name": "stdout",
          "text": [
            "🚀 Derivador Avanzado inicializado (variable: 'x')\n",
            "Métodos soportados:\n",
            "- Reglas básicas (potencia, suma, producto, cociente)\n",
            "- Funciones trigonométricas e hiperbólicas\n",
            "- Funciones exponenciales y logarítmicas\n",
            "- Derivación implícita\n",
            "- Derivadas de orden superior\n"
          ]
        },
        {
          "output_type": "display_data",
          "data": {
            "text/plain": [
              "<IPython.core.display.Markdown object>"
            ],
            "text/markdown": "### 🔍 Derivando (1° orden): `x**3 + 2*x**2 - 5*x + 1`"
          },
          "metadata": {}
        },
        {
          "output_type": "display_data",
          "data": {
            "text/plain": [
              "<IPython.core.display.Markdown object>"
            ],
            "text/markdown": "**Paso 1:** Descomponer en términos:"
          },
          "metadata": {}
        },
        {
          "output_type": "display_data",
          "data": {
            "text/plain": [
              "<IPython.core.display.Markdown object>"
            ],
            "text/markdown": "\n**Término:** `1`"
          },
          "metadata": {}
        },
        {
          "output_type": "display_data",
          "data": {
            "text/plain": [
              "<IPython.core.display.Markdown object>"
            ],
            "text/markdown": "**Regla aplicada:** Regla de la constante: d/dx[c] = 0"
          },
          "metadata": {}
        },
        {
          "output_type": "display_data",
          "data": {
            "text/plain": [
              "<IPython.core.display.Markdown object>"
            ],
            "text/markdown": "**Resultado parcial:** `0`"
          },
          "metadata": {}
        },
        {
          "output_type": "display_data",
          "data": {
            "text/plain": [
              "<IPython.core.display.Markdown object>"
            ],
            "text/markdown": "\n**Término:** `x**3`"
          },
          "metadata": {}
        },
        {
          "output_type": "display_data",
          "data": {
            "text/plain": [
              "<IPython.core.display.Markdown object>"
            ],
            "text/markdown": "**Regla aplicada:** Regla de la potencia: d/dx[x^3] = 3x^2"
          },
          "metadata": {}
        },
        {
          "output_type": "display_data",
          "data": {
            "text/plain": [
              "<IPython.core.display.Markdown object>"
            ],
            "text/markdown": "**Resultado parcial:** `3*x**2`"
          },
          "metadata": {}
        },
        {
          "output_type": "display_data",
          "data": {
            "text/plain": [
              "<IPython.core.display.Markdown object>"
            ],
            "text/markdown": "\n**Término:** `-5*x`"
          },
          "metadata": {}
        },
        {
          "output_type": "display_data",
          "data": {
            "text/plain": [
              "<IPython.core.display.Markdown object>"
            ],
            "text/markdown": "**Regla aplicada:** Derivada directa"
          },
          "metadata": {}
        },
        {
          "output_type": "display_data",
          "data": {
            "text/plain": [
              "<IPython.core.display.Markdown object>"
            ],
            "text/markdown": "**Resultado parcial:** `-5`"
          },
          "metadata": {}
        },
        {
          "output_type": "display_data",
          "data": {
            "text/plain": [
              "<IPython.core.display.Markdown object>"
            ],
            "text/markdown": "\n**Término:** `2*x**2`"
          },
          "metadata": {}
        },
        {
          "output_type": "display_data",
          "data": {
            "text/plain": [
              "<IPython.core.display.Markdown object>"
            ],
            "text/markdown": "**Regla aplicada:** Derivada directa"
          },
          "metadata": {}
        },
        {
          "output_type": "display_data",
          "data": {
            "text/plain": [
              "<IPython.core.display.Markdown object>"
            ],
            "text/markdown": "**Resultado parcial:** `4*x`"
          },
          "metadata": {}
        },
        {
          "output_type": "display_data",
          "data": {
            "text/plain": [
              "<IPython.core.display.Markdown object>"
            ],
            "text/markdown": "\n**Paso 2:** Combinar derivadas parciales:"
          },
          "metadata": {}
        },
        {
          "output_type": "display_data",
          "data": {
            "text/plain": [
              "<IPython.core.display.Math object>"
            ],
            "text/latex": "$\\displaystyle 0 + 3 x^{2} + -5 + 4 x = 3 x^{2} + 4 x - 5$"
          },
          "metadata": {}
        },
        {
          "output_type": "display_data",
          "data": {
            "text/plain": [
              "<IPython.core.display.Markdown object>"
            ],
            "text/markdown": "\n**Reglas aplicadas:**"
          },
          "metadata": {}
        },
        {
          "output_type": "display_data",
          "data": {
            "text/plain": [
              "<IPython.core.display.Markdown object>"
            ],
            "text/markdown": "- Derivada directa"
          },
          "metadata": {}
        },
        {
          "output_type": "display_data",
          "data": {
            "text/plain": [
              "<IPython.core.display.Markdown object>"
            ],
            "text/markdown": "- Regla de la constante: d/dx[c] = 0"
          },
          "metadata": {}
        },
        {
          "output_type": "display_data",
          "data": {
            "text/plain": [
              "<IPython.core.display.Markdown object>"
            ],
            "text/markdown": "- Regla de la potencia: d/dx[x^3] = 3x^2"
          },
          "metadata": {}
        },
        {
          "output_type": "display_data",
          "data": {
            "text/plain": [
              "<IPython.core.display.Markdown object>"
            ],
            "text/markdown": "\n### 📝 **Derivada final:**"
          },
          "metadata": {}
        },
        {
          "output_type": "display_data",
          "data": {
            "text/plain": [
              "<IPython.core.display.Math object>"
            ],
            "text/latex": "$\\displaystyle \\frac{d}{dx} \\left(x^{3} + 2 x^{2} - 5 x + 1\\right) = 3 x^{2} + 4 x - 5$"
          },
          "metadata": {}
        },
        {
          "output_type": "display_data",
          "data": {
            "text/plain": [
              "<IPython.core.display.Markdown object>"
            ],
            "text/markdown": "---"
          },
          "metadata": {}
        },
        {
          "output_type": "display_data",
          "data": {
            "text/plain": [
              "<IPython.core.display.Markdown object>"
            ],
            "text/markdown": "---"
          },
          "metadata": {}
        },
        {
          "output_type": "stream",
          "name": "stdout",
          "text": [
            "🚀 Derivador Avanzado inicializado (variable: 'x')\n",
            "Métodos soportados:\n",
            "- Reglas básicas (potencia, suma, producto, cociente)\n",
            "- Funciones trigonométricas e hiperbólicas\n",
            "- Funciones exponenciales y logarítmicas\n",
            "- Derivación implícita\n",
            "- Derivadas de orden superior\n"
          ]
        },
        {
          "output_type": "display_data",
          "data": {
            "text/plain": [
              "<IPython.core.display.Markdown object>"
            ],
            "text/markdown": "### 🔍 Derivando (1° orden): `sin(3*x**2)`"
          },
          "metadata": {}
        },
        {
          "output_type": "display_data",
          "data": {
            "text/plain": [
              "<IPython.core.display.Markdown object>"
            ],
            "text/markdown": "**🔗 Aplicando regla de la cadena:**"
          },
          "metadata": {}
        },
        {
          "output_type": "display_data",
          "data": {
            "text/plain": [
              "<IPython.core.display.Math object>"
            ],
            "text/latex": "$\\displaystyle \\frac{d}{dx} f(g(x)) = f'(g(x)) \\cdot g'(x)$"
          },
          "metadata": {}
        },
        {
          "output_type": "display_data",
          "data": {
            "text/plain": [
              "<IPython.core.display.Markdown object>"
            ],
            "text/markdown": "**Paso a paso:**"
          },
          "metadata": {}
        },
        {
          "output_type": "display_data",
          "data": {
            "text/plain": [
              "<IPython.core.display.Math object>"
            ],
            "text/latex": "$\\displaystyle f(g) = \\sin, \\quad g(x) = 3 x^{2}$"
          },
          "metadata": {}
        },
        {
          "output_type": "display_data",
          "data": {
            "text/plain": [
              "<IPython.core.display.Math object>"
            ],
            "text/latex": "$\\displaystyle f'(g) = 6 x, \\quad g'(x) = 6 x$"
          },
          "metadata": {}
        },
        {
          "output_type": "display_data",
          "data": {
            "text/plain": [
              "<IPython.core.display.Math object>"
            ],
            "text/latex": "$\\displaystyle \\Rightarrow 6 x \\cdot 6 x = 36 x^{2}$"
          },
          "metadata": {}
        },
        {
          "output_type": "display_data",
          "data": {
            "text/plain": [
              "<IPython.core.display.Markdown object>"
            ],
            "text/markdown": "---"
          },
          "metadata": {}
        },
        {
          "output_type": "display_data",
          "data": {
            "text/plain": [
              "<IPython.core.display.Markdown object>"
            ],
            "text/markdown": "---"
          },
          "metadata": {}
        },
        {
          "output_type": "stream",
          "name": "stdout",
          "text": [
            "🚀 Derivador Avanzado inicializado (variable: 'x')\n",
            "Métodos soportados:\n",
            "- Reglas básicas (potencia, suma, producto, cociente)\n",
            "- Funciones trigonométricas e hiperbólicas\n",
            "- Funciones exponenciales y logarítmicas\n",
            "- Derivación implícita\n",
            "- Derivadas de orden superior\n"
          ]
        },
        {
          "output_type": "display_data",
          "data": {
            "text/plain": [
              "<IPython.core.display.Markdown object>"
            ],
            "text/markdown": "### 🔍 Derivando (1° orden): `e**x*x`"
          },
          "metadata": {}
        },
        {
          "output_type": "display_data",
          "data": {
            "text/plain": [
              "<IPython.core.display.Markdown object>"
            ],
            "text/markdown": "**✖ Aplicando regla del producto:**"
          },
          "metadata": {}
        },
        {
          "output_type": "display_data",
          "data": {
            "text/plain": [
              "<IPython.core.display.Math object>"
            ],
            "text/latex": "$\\displaystyle \\frac{d}{dx} [f(x) \\cdot g(x)] = f'(x)g(x) + f(x)g'(x)$"
          },
          "metadata": {}
        },
        {
          "output_type": "display_data",
          "data": {
            "text/plain": [
              "<IPython.core.display.Markdown object>"
            ],
            "text/markdown": "**Paso a paso:**"
          },
          "metadata": {}
        },
        {
          "output_type": "display_data",
          "data": {
            "text/plain": [
              "<IPython.core.display.Math object>"
            ],
            "text/latex": "$\\displaystyle f(x) = x, \\quad g(x) = e^{x}$"
          },
          "metadata": {}
        },
        {
          "output_type": "display_data",
          "data": {
            "text/plain": [
              "<IPython.core.display.Math object>"
            ],
            "text/latex": "$\\displaystyle f'(x) = 1, \\quad g'(x) = e^{x} \\log{\\left(e \\right)}$"
          },
          "metadata": {}
        },
        {
          "output_type": "display_data",
          "data": {
            "text/plain": [
              "<IPython.core.display.Math object>"
            ],
            "text/latex": "$\\displaystyle \\Rightarrow 1e^{x} + xe^{x} \\log{\\left(e \\right)} = e^{x} x \\log{\\left(e \\right)} + e^{x}$"
          },
          "metadata": {}
        },
        {
          "output_type": "display_data",
          "data": {
            "text/plain": [
              "<IPython.core.display.Markdown object>"
            ],
            "text/markdown": "---"
          },
          "metadata": {}
        },
        {
          "output_type": "display_data",
          "data": {
            "text/plain": [
              "<IPython.core.display.Markdown object>"
            ],
            "text/markdown": "---"
          },
          "metadata": {}
        },
        {
          "output_type": "stream",
          "name": "stdout",
          "text": [
            "🚀 Derivador Avanzado inicializado (variable: 'x')\n",
            "Métodos soportados:\n",
            "- Reglas básicas (potencia, suma, producto, cociente)\n",
            "- Funciones trigonométricas e hiperbólicas\n",
            "- Funciones exponenciales y logarítmicas\n",
            "- Derivación implícita\n",
            "- Derivadas de orden superior\n"
          ]
        },
        {
          "output_type": "display_data",
          "data": {
            "text/plain": [
              "<IPython.core.display.Markdown object>"
            ],
            "text/markdown": "### 🔍 Derivando (1° orden): `(x**2 + 1)/(x - 1)`"
          },
          "metadata": {}
        },
        {
          "output_type": "display_data",
          "data": {
            "text/plain": [
              "<IPython.core.display.Markdown object>"
            ],
            "text/markdown": "**✖ Aplicando regla del producto:**"
          },
          "metadata": {}
        },
        {
          "output_type": "display_data",
          "data": {
            "text/plain": [
              "<IPython.core.display.Math object>"
            ],
            "text/latex": "$\\displaystyle \\frac{d}{dx} [f(x) \\cdot g(x)] = f'(x)g(x) + f(x)g'(x)$"
          },
          "metadata": {}
        },
        {
          "output_type": "display_data",
          "data": {
            "text/plain": [
              "<IPython.core.display.Markdown object>"
            ],
            "text/markdown": "**Paso a paso:**"
          },
          "metadata": {}
        },
        {
          "output_type": "display_data",
          "data": {
            "text/plain": [
              "<IPython.core.display.Math object>"
            ],
            "text/latex": "$\\displaystyle f(x) = \\frac{1}{x - 1}, \\quad g(x) = x^{2} + 1$"
          },
          "metadata": {}
        },
        {
          "output_type": "display_data",
          "data": {
            "text/plain": [
              "<IPython.core.display.Math object>"
            ],
            "text/latex": "$\\displaystyle f'(x) = - \\frac{1}{\\left(x - 1\\right)^{2}}, \\quad g'(x) = 2 x$"
          },
          "metadata": {}
        },
        {
          "output_type": "display_data",
          "data": {
            "text/plain": [
              "<IPython.core.display.Math object>"
            ],
            "text/latex": "$\\displaystyle \\Rightarrow - \\frac{1}{\\left(x - 1\\right)^{2}}x^{2} + 1 + \\frac{1}{x - 1}2 x = \\frac{2 x}{x - 1} - \\frac{x^{2} + 1}{\\left(x - 1\\right)^{2}}$"
          },
          "metadata": {}
        },
        {
          "output_type": "display_data",
          "data": {
            "text/plain": [
              "<IPython.core.display.Markdown object>"
            ],
            "text/markdown": "---"
          },
          "metadata": {}
        },
        {
          "output_type": "display_data",
          "data": {
            "text/plain": [
              "<IPython.core.display.Markdown object>"
            ],
            "text/markdown": "---"
          },
          "metadata": {}
        },
        {
          "output_type": "stream",
          "name": "stdout",
          "text": [
            "🚀 Derivador Avanzado inicializado (variable: 'x')\n",
            "Métodos soportados:\n",
            "- Reglas básicas (potencia, suma, producto, cociente)\n",
            "- Funciones trigonométricas e hiperbólicas\n",
            "- Funciones exponenciales y logarítmicas\n",
            "- Derivación implícita\n",
            "- Derivadas de orden superior\n"
          ]
        },
        {
          "output_type": "display_data",
          "data": {
            "text/plain": [
              "<IPython.core.display.Markdown object>"
            ],
            "text/markdown": "### 🔍 Derivando (2° orden): `log(x**2 + 1)`"
          },
          "metadata": {}
        },
        {
          "output_type": "display_data",
          "data": {
            "text/plain": [
              "<IPython.core.display.Markdown object>"
            ],
            "text/markdown": "\n### 🔄 Calculando 1° derivada:"
          },
          "metadata": {}
        },
        {
          "output_type": "display_data",
          "data": {
            "text/plain": [
              "<IPython.core.display.Markdown object>"
            ],
            "text/markdown": "**🔗 Aplicando regla de la cadena:**"
          },
          "metadata": {}
        },
        {
          "output_type": "display_data",
          "data": {
            "text/plain": [
              "<IPython.core.display.Math object>"
            ],
            "text/latex": "$\\displaystyle \\frac{d}{dx} f(g(x)) = f'(g(x)) \\cdot g'(x)$"
          },
          "metadata": {}
        },
        {
          "output_type": "display_data",
          "data": {
            "text/plain": [
              "<IPython.core.display.Markdown object>"
            ],
            "text/markdown": "**Paso a paso:**"
          },
          "metadata": {}
        },
        {
          "output_type": "display_data",
          "data": {
            "text/plain": [
              "<IPython.core.display.Math object>"
            ],
            "text/latex": "$\\displaystyle f(g) = \\log, \\quad g(x) = x^{2} + 1$"
          },
          "metadata": {}
        },
        {
          "output_type": "display_data",
          "data": {
            "text/plain": [
              "<IPython.core.display.Math object>"
            ],
            "text/latex": "$\\displaystyle f'(g) = 2 x, \\quad g'(x) = 2 x$"
          },
          "metadata": {}
        },
        {
          "output_type": "display_data",
          "data": {
            "text/plain": [
              "<IPython.core.display.Math object>"
            ],
            "text/latex": "$\\displaystyle \\Rightarrow 2 x \\cdot 2 x = 4 x^{2}$"
          },
          "metadata": {}
        },
        {
          "output_type": "display_data",
          "data": {
            "text/plain": [
              "<IPython.core.display.Markdown object>"
            ],
            "text/markdown": "\n### 🔄 Calculando 2° derivada:"
          },
          "metadata": {}
        },
        {
          "output_type": "display_data",
          "data": {
            "text/plain": [
              "<IPython.core.display.Markdown object>"
            ],
            "text/markdown": "\n**Término:** `4*x**2`"
          },
          "metadata": {}
        },
        {
          "output_type": "display_data",
          "data": {
            "text/plain": [
              "<IPython.core.display.Markdown object>"
            ],
            "text/markdown": "**Regla aplicada:** Derivada directa"
          },
          "metadata": {}
        },
        {
          "output_type": "display_data",
          "data": {
            "text/plain": [
              "<IPython.core.display.Markdown object>"
            ],
            "text/markdown": "**Resultado parcial:** `8*x`"
          },
          "metadata": {}
        },
        {
          "output_type": "display_data",
          "data": {
            "text/plain": [
              "<IPython.core.display.Markdown object>"
            ],
            "text/markdown": "\n**Paso 2:** Combinar derivadas parciales:"
          },
          "metadata": {}
        },
        {
          "output_type": "display_data",
          "data": {
            "text/plain": [
              "<IPython.core.display.Math object>"
            ],
            "text/latex": "$\\displaystyle 8 x = 8 x$"
          },
          "metadata": {}
        },
        {
          "output_type": "display_data",
          "data": {
            "text/plain": [
              "<IPython.core.display.Markdown object>"
            ],
            "text/markdown": "\n**Reglas aplicadas:**"
          },
          "metadata": {}
        },
        {
          "output_type": "display_data",
          "data": {
            "text/plain": [
              "<IPython.core.display.Markdown object>"
            ],
            "text/markdown": "- Derivada directa"
          },
          "metadata": {}
        },
        {
          "output_type": "display_data",
          "data": {
            "text/plain": [
              "<IPython.core.display.Markdown object>"
            ],
            "text/markdown": "\n### 📝 **Derivada final:**"
          },
          "metadata": {}
        },
        {
          "output_type": "display_data",
          "data": {
            "text/plain": [
              "<IPython.core.display.Math object>"
            ],
            "text/latex": "$\\displaystyle \\frac{d}{dx} \\left(4 x^{2}\\right) = 8 x$"
          },
          "metadata": {}
        },
        {
          "output_type": "display_data",
          "data": {
            "text/plain": [
              "<IPython.core.display.Markdown object>"
            ],
            "text/markdown": "\n### 📝 **Derivada de orden 2:**"
          },
          "metadata": {}
        },
        {
          "output_type": "display_data",
          "data": {
            "text/plain": [
              "<IPython.core.display.Math object>"
            ],
            "text/latex": "$\\displaystyle \\frac{d^2}{dx^2} \\left(\\log{\\left(x^{2} + 1 \\right)}\\right) = 8 x$"
          },
          "metadata": {}
        },
        {
          "output_type": "display_data",
          "data": {
            "text/plain": [
              "<IPython.core.display.Markdown object>"
            ],
            "text/markdown": "---"
          },
          "metadata": {}
        },
        {
          "output_type": "execute_result",
          "data": {
            "text/plain": [
              "8*x"
            ],
            "text/latex": "$\\displaystyle 8 x$"
          },
          "metadata": {},
          "execution_count": 5
        }
      ]
    },
    {
      "cell_type": "code",
      "source": [
        "from IPython.display import display, Markdown, Math\n",
        "import sympy as sp\n",
        "from sympy.parsing.sympy_parser import (\n",
        "    parse_expr,\n",
        "    standard_transformations,\n",
        "    implicit_multiplication_application\n",
        ")\n",
        "from sympy.integrals.manualintegrate import integral_steps\n",
        "\n",
        "transformations = (standard_transformations + (implicit_multiplication_application,))\n",
        "\n",
        "class SuperIntegrador:\n",
        "    def __init__(self, variable='x'):\n",
        "        \"\"\"\n",
        "        Inicializa el integrador con capacidad para resolver integrales complejas.\n",
        "\n",
        "        Args:\n",
        "            variable (str): Variable de integración (por defecto 'x')\n",
        "        \"\"\"\n",
        "        self.variable = sp.Symbol(variable)\n",
        "        self.historial = []\n",
        "        print(f\"🚀 SuperIntegrador Avanzado inicializado (variable: '{variable}')\")\n",
        "        print(\"Métodos soportados:\")\n",
        "        print(\"- Integración por partes\")\n",
        "        print(\"- Sustitución trigonométrica\")\n",
        "        print(\"- Fracciones parciales\")\n",
        "        print(\"- Integrales trigonométricas\")\n",
        "        print(\"- Sustituciones especiales\")\n",
        "\n",
        "    def calcular_integral(self, expresion, limites=None):\n",
        "        \"\"\"\n",
        "        Calcula integrales indefinidas o definidas con explicación detallada.\n",
        "\n",
        "        Args:\n",
        "            expresion (str): Expresión a integrar\n",
        "            limites (tuple): Límites para integral definida (opcional)\n",
        "\n",
        "        Returns:\n",
        "            sympy.Expr: Resultado de la integral\n",
        "        \"\"\"\n",
        "        try:\n",
        "            expr = self._parsear_expresion(expresion)\n",
        "            display(Markdown(f\"### 🔍 **Integrando:** `{expr}`\"))\n",
        "\n",
        "            # Selección del método de integración\n",
        "            if self._necesita_sustitucion_trig(expr):\n",
        "                resultado = self._sustitucion_trigonometrica(expr)\n",
        "            elif self._necesita_fracciones_parciales(expr):\n",
        "                resultado = self._fracciones_parciales(expr)\n",
        "            elif self._necesita_partes(expr):\n",
        "                resultado = self._integrar_por_partes(expr)\n",
        "            else:\n",
        "                resultado = self._integrar_paso_a_paso(expr)\n",
        "\n",
        "            # Manejo de integral definida\n",
        "            if limites:\n",
        "                a, b = map(sp.sympify, limites)\n",
        "                resultado_definido = resultado.subs(self.variable, b) - resultado.subs(self.variable, a)\n",
        "                self._mostrar_resultado(expr, resultado, (a, b, resultado_definido))\n",
        "                self._agregar_al_historial(expr, resultado, f\"Definida de {a} a {b}: {resultado_definido}\")\n",
        "                return resultado_definido\n",
        "\n",
        "            self._mostrar_resultado(expr, resultado)\n",
        "            self._agregar_al_historial(expr, resultado)\n",
        "            return resultado\n",
        "\n",
        "        except Exception as e:\n",
        "            display(Markdown(f\"❌ **Error:** `{str(e)}`\"))\n",
        "            return None\n",
        "\n",
        "    # ========== MÉTODOS PRINCIPALES DE INTEGRACIÓN ==========\n",
        "    def _integrar_paso_a_paso(self, expr):\n",
        "        \"\"\"Integra mostrando cada paso con reglas aplicadas.\"\"\"\n",
        "        x = self.variable\n",
        "        if expr.is_Add:\n",
        "            display(Markdown(\"**Paso 1:** Descomponer en términos:\"))\n",
        "            terminos = expr.args\n",
        "        else:\n",
        "            terminos = [expr]\n",
        "\n",
        "        resultados = []\n",
        "\n",
        "        for term in terminos:\n",
        "            display(Markdown(f\"\\n**Término:** `{term}`\"))\n",
        "\n",
        "            if term.is_constant():\n",
        "                integral = term * x\n",
        "                regla = \"∫k dx = k·x + C\"\n",
        "            elif term.is_Pow:\n",
        "                base, exp = term.as_base_exp()\n",
        "                if exp == -1:\n",
        "                    integral = sp.log(abs(x))\n",
        "                    regla = \"∫(1/x) dx = ln|x| + C\"\n",
        "                else:\n",
        "                    integral = (x**(exp + 1)) / (exp + 1)\n",
        "                    regla = f\"∫x^{exp} dx = x^{exp + 1}/{exp + 1} + C\"\n",
        "            elif term.has(sp.sin, sp.cos, sp.tan):\n",
        "                integral, regla = self._integrar_trigonometrica(term)\n",
        "            elif term.has(sp.exp):\n",
        "                integral, regla = self._integrar_exponencial(term)\n",
        "            elif term.has(sp.log):\n",
        "                integral, regla = self._integrar_logaritmica(term)\n",
        "            else:\n",
        "                integral = sp.integrate(term, x)\n",
        "                regla = \"Integral directa\"\n",
        "\n",
        "            display(Markdown(f\"**Regla aplicada:** {regla}\"))\n",
        "            display(Markdown(f\"**Resultado parcial:** `{integral}`\"))\n",
        "            resultados.append(integral)\n",
        "\n",
        "        return sum(resultados)\n",
        "\n",
        "    def _integrar_por_partes(self, expr):\n",
        "        \"\"\"Aplica integración por partes con explicación detallada.\"\"\"\n",
        "        x = self.variable\n",
        "\n",
        "        # Estrategia LIATE para selección de u\n",
        "        for factor in expr.args:\n",
        "            if factor.has(sp.log(x)):\n",
        "                u = factor\n",
        "                dv = expr / u\n",
        "                break\n",
        "            elif factor.has(sp.atan(x), sp.asin(x), sp.acos(x)):\n",
        "                u = factor\n",
        "                dv = expr / u\n",
        "                break\n",
        "        else:\n",
        "            u = x\n",
        "            dv = expr / u\n",
        "\n",
        "        du = sp.diff(u, x)\n",
        "        v = sp.integrate(dv, x)\n",
        "        integral = u * v - sp.integrate(v * du, x)\n",
        "\n",
        "        display(Markdown(f\"\"\"\n",
        "        **🧩 Integración por partes:**\n",
        "        - u = {u}\n",
        "        - dv = {dv} dx\n",
        "        - du = {du} dx\n",
        "        - v = ∫{dv} dx = {v}\n",
        "\n",
        "        **Aplicando fórmula:** ∫u dv = uv - ∫v du\n",
        "        \"\"\"))\n",
        "        display(Markdown(f\"**Resultado intermedio:** `{u*v} - ∫{v*du} dx`\"))\n",
        "\n",
        "        return integral\n",
        "\n",
        "    def _sustitucion_trigonometrica(self, expr):\n",
        "        \"\"\"Maneja sustituciones trigonométricas para expresiones con raíces.\"\"\"\n",
        "        x = self.variable\n",
        "        theta = sp.Symbol('θ')\n",
        "\n",
        "        # Patrones comunes\n",
        "        a = sp.Wild('a', exclude=[x])\n",
        "        patterns = [\n",
        "              sp.sqrt(a**2 - x**2),  # x = a sinθ\n",
        "              sp.sqrt(a**2 + x**2),   # x = a tanθ\n",
        "              sp.sqrt(x**2 - a**2)    # x = a secθ\n",
        "        ]\n",
        "\n",
        "        for pattern in patterns:\n",
        "            match = expr.match(pattern)\n",
        "            if match:\n",
        "                a_val = match[a]\n",
        "                if pattern == sp.sqrt(a**2 - x**2):\n",
        "                    sub = a_val * sp.sin(theta)\n",
        "                    display(Markdown(f\"**Sustitución:** x = {a_val}·sin(θ)\"))\n",
        "                elif pattern == sp.sqrt(a**2 + x**2):\n",
        "                    sub = a_val * sp.tan(theta)\n",
        "                    display(Markdown(f\"**Sustitución:** x = {a_val}·tan(θ)\"))\n",
        "                else:\n",
        "                    sub = a_val * sp.sec(theta)\n",
        "                    display(Markdown(f\"**Sustitución:** x = {a_val}·sec(θ)\"))\n",
        "\n",
        "                expr_subs = expr.subs(x, sub) * sp.diff(sub, theta)\n",
        "                display(Markdown(f\"**Expresión sustituida:** `{expr_subs}`\"))\n",
        "\n",
        "                integral = sp.integrate(expr_subs, theta)\n",
        "                display(Markdown(f\"**Integral en términos de θ:** `{integral}`\"))\n",
        "\n",
        "                # Convertir de vuelta a x\n",
        "                if pattern == sp.sqrt(a**2 - x**2):\n",
        "                    theta_expr = sp.asin(x/a_val)\n",
        "                elif pattern == sp.sqrt(a**2 + x**2):\n",
        "                    theta_expr = sp.atan(x/a_val)\n",
        "                else:\n",
        "                    theta_expr = sp.asec(x/a_val)\n",
        "\n",
        "                resultado = integral.subs(theta, theta_expr)\n",
        "                display(Markdown(f\"**Resultado final:** `{resultado}`\"))\n",
        "\n",
        "                return resultado\n",
        "\n",
        "        return sp.integrate(expr, x)\n",
        "\n",
        "    def _fracciones_parciales(self, expr):\n",
        "        \"\"\"Aplica descomposición en fracciones parciales.\"\"\"\n",
        "        x = self.variable\n",
        "        expr_apart = sp.apart(expr, x)\n",
        "\n",
        "        display(Markdown(\"**🔍 Descomposición en fracciones parciales:**\"))\n",
        "        display(Markdown(f\"`{expr} = {expr_apart}`\"))\n",
        "\n",
        "        # Integrar cada término por separado\n",
        "        if expr_apart.is_Add:\n",
        "            display(Markdown(\"\\n**Integrando cada término:**\"))\n",
        "            terminos = expr_apart.args\n",
        "        else:\n",
        "            terminos = [expr_apart]\n",
        "\n",
        "        resultados = []\n",
        "        for term in terminos:\n",
        "            integral = sp.integrate(term, x)\n",
        "            display(Markdown(f\"- ∫`{term}` dx = `{integral}`\"))\n",
        "            resultados.append(integral)\n",
        "\n",
        "        return sum(resultados)\n",
        "\n",
        "    # ========== MÉTODOS AUXILIARES ==========\n",
        "    def _parsear_expresion(self, expresion):\n",
        "        \"\"\"Convierte una cadena en expresión SymPy.\"\"\"\n",
        "        try:\n",
        "            return parse_expr(\n",
        "                expresion,\n",
        "                transformations=transformations,\n",
        "                local_dict={self.variable.name: self.variable}\n",
        "            )\n",
        "        except Exception as e:\n",
        "            raise ValueError(f\"Error al parsear la expresión: {str(e)}\")\n",
        "\n",
        "    def _mostrar_resultado(self, expr, resultado, limites=None):\n",
        "        \"\"\"Muestra el resultado final con formato profesional.\"\"\"\n",
        "        if limites:\n",
        "            a, b, res_def = limites\n",
        "            display(Markdown(f\"\"\"\n",
        "            ### 🎉 **Resultado final (integral definida):**\n",
        "            ```\n",
        "            ∫_{a}^{b} {expr} dx = {res_def}\n",
        "            ```\n",
        "            \"\"\"))\n",
        "        else:\n",
        "            display(Markdown(f\"\"\"\n",
        "            ### 🎉 **Resultado final (integral indefinida):**\n",
        "            ```\n",
        "            ∫ {expr} dx = {resultado} + C\n",
        "            ```\n",
        "            \"\"\"))\n",
        "\n",
        "    def _agregar_al_historial(self, expr, resultado, info_extra=None):\n",
        "        \"\"\"Guarda en el historial con timestamp.\"\"\"\n",
        "        from datetime import datetime\n",
        "        entrada = {\n",
        "            'fecha': datetime.now().strftime(\"%Y-%m-%d %H:%M:%S\"),\n",
        "            'expresión': expr,\n",
        "            'resultado': resultado,\n",
        "            'extra': info_extra or \"Indefinida\"\n",
        "        }\n",
        "        self.historial.append(entrada)\n",
        "\n",
        "    def mostrar_historial(self):\n",
        "        \"\"\"Muestra el historial en formato de tabla.\"\"\"\n",
        "        if not self.historial:\n",
        "            display(Markdown(\"📜 **El historial está vacío.**\"))\n",
        "            return\n",
        "\n",
        "        tabla = \"| # | Fecha | Expresión | Resultado | Tipo |\\n|---|---|---|---|---|\\n\"\n",
        "        for idx, item in enumerate(self.historial, 1):\n",
        "            tabla += (\n",
        "                f\"| {idx} | {item['fecha']} | \"\n",
        "                f\"∫`{item['expresión']}` d{self.variable} | \"\n",
        "                f\"`{item['resultado']}` | {item['extra']} |\\n\"\n",
        "            )\n",
        "        display(Markdown(f\"### 📜 Historial de Integración\\n{tabla}\"))\n",
        "\n",
        "    # ========== DETECTORES DE MÉTODOS ==========\n",
        "    def _necesita_partes(self, expr):\n",
        "        \"\"\"Determina si se necesita integración por partes.\"\"\"\n",
        "        x = self.variable\n",
        "        return (expr.is_Mul and any(\n",
        "            factor.has(sp.log(x), sp.atan(x), sp.asin(x), sp.acos(x))\n",
        "            for factor in expr.args\n",
        "        ))\n",
        "\n",
        "    def _necesita_sustitucion_trig(self, expr):\n",
        "        \"\"\"Identifica patrones para sustitución trigonométrica.\"\"\"\n",
        "        x = self.variable\n",
        "        a = sp.Wild('a', exclude=[x])\n",
        "        patrones = [\n",
        "            sp.sqrt(a**2 - x**2),\n",
        "            sp.sqrt(a**2 + x**2),\n",
        "            sp.sqrt(x**2 - a**2)\n",
        "        ]\n",
        "        return any(expr.has(p) for p in patrones)\n",
        "\n",
        "    def _necesita_fracciones_parciales(self, expr):\n",
        "        \"\"\"Reconoce funciones racionales propias.\"\"\"\n",
        "        x = self.variable\n",
        "        return (expr.is_rational_function(x) and\n",
        "                expr.as_numer_denom()[1].as_poly(x).degree() > 1)\n",
        "\n",
        "    # ========== MÉTODOS PARA TÉRMINOS ESPECÍFICOS ==========\n",
        "    def _integrar_trigonometrica(self, term):\n",
        "        \"\"\"Integra funciones trigonométricas.\"\"\"\n",
        "        x = self.variable\n",
        "        if term.has(sp.sin(x)):\n",
        "            return -sp.cos(x), \"∫sin(x) dx = -cos(x) + C\"\n",
        "        elif term.has(sp.cos(x)):\n",
        "            return sp.sin(x), \"∫cos(x) dx = sin(x) + C\"\n",
        "        elif term.has(sp.tan(x)):\n",
        "            return -sp.ln(sp.cos(x)), \"∫tan(x) dx = -ln|cos(x)| + C\"\n",
        "        return term, \"Integral trigonométrica no identificada\"\n",
        "\n",
        "    def _integrar_exponencial(self, term):\n",
        "        \"\"\"Integra funciones exponenciales.\"\"\"\n",
        "        x = self.variable\n",
        "        base, exp = term.as_base_exp()\n",
        "        if base == sp.E:\n",
        "            if exp == x:\n",
        "                return sp.exp(x), \"∫e^x dx = e^x + C\"\n",
        "            else:\n",
        "                return sp.exp(exp)/sp.diff(exp, x), \"∫e^u du = e^u + C (u-sub)\"\n",
        "        return term, \"Integral exponencial general\"\n",
        "\n",
        "    def _integrar_logaritmica(self, term):\n",
        "        \"\"\"Integra funciones logarítmicas.\"\"\"\n",
        "        x = self.variable\n",
        "        if term == sp.log(x):\n",
        "            return x*sp.log(x) - x, \"∫ln(x) dx = x·ln(x) - x + C\"\n",
        "        return term, \"Integral logarítmica general\"\n"
      ],
      "metadata": {
        "id": "38csoKAMEjjd"
      },
      "execution_count": 32,
      "outputs": []
    },
    {
      "cell_type": "code",
      "source": [
        "integ = SuperIntegrador()\n",
        "integ.calcular_integral(\"3*x**2 + 4*x\")"
      ],
      "metadata": {
        "colab": {
          "base_uri": "https://localhost:8080/",
          "height": 314
        },
        "id": "H2dKdF2HJq0G",
        "outputId": "16e50181-9078-4894-d0e4-06ea448262e2"
      },
      "execution_count": 25,
      "outputs": [
        {
          "output_type": "stream",
          "name": "stdout",
          "text": [
            "🔍 SuperIntegrador listo (variable: 'x'). ¡Empecemos!\n"
          ]
        },
        {
          "output_type": "display_data",
          "data": {
            "text/plain": [
              "<IPython.core.display.Markdown object>"
            ],
            "text/markdown": "### 🔍 Integrando: `3*x**2 + 4*x`"
          },
          "metadata": {}
        },
        {
          "output_type": "display_data",
          "data": {
            "text/plain": [
              "<IPython.core.display.Markdown object>"
            ],
            "text/markdown": "**Paso 1:** Descomponer en términos:"
          },
          "metadata": {}
        },
        {
          "output_type": "display_data",
          "data": {
            "text/plain": [
              "<IPython.core.display.Markdown object>"
            ],
            "text/markdown": "\n**Término:** `3*x**2`"
          },
          "metadata": {}
        },
        {
          "output_type": "display_data",
          "data": {
            "text/plain": [
              "<IPython.core.display.Markdown object>"
            ],
            "text/markdown": "\n        **Regla aplicada:** Integral directa  \n        **Resultado parcial:** `x**3`\n        "
          },
          "metadata": {}
        },
        {
          "output_type": "display_data",
          "data": {
            "text/plain": [
              "<IPython.core.display.Markdown object>"
            ],
            "text/markdown": "\n**Término:** `4*x`"
          },
          "metadata": {}
        },
        {
          "output_type": "display_data",
          "data": {
            "text/plain": [
              "<IPython.core.display.Markdown object>"
            ],
            "text/markdown": "\n        **Regla aplicada:** Integral directa  \n        **Resultado parcial:** `2*x**2`\n        "
          },
          "metadata": {}
        },
        {
          "output_type": "display_data",
          "data": {
            "text/plain": [
              "<IPython.core.display.Markdown object>"
            ],
            "text/markdown": "\n            ### 📝 **Integral indefinida calculada:**\n            ```\n            ∫ 3*x**2 + 4*x dx = x**3 + 2*x**2 + C\n            ```\n            "
          },
          "metadata": {}
        },
        {
          "output_type": "execute_result",
          "data": {
            "text/plain": [
              "x**3 + 2*x**2"
            ],
            "text/latex": "$\\displaystyle x^{3} + 2 x^{2}$"
          },
          "metadata": {},
          "execution_count": 25
        }
      ]
    },
    {
      "cell_type": "code",
      "source": [
        "from IPython.display import display, Markdown, Math\n",
        "import sympy as sp\n",
        "from sympy.parsing.sympy_parser import (\n",
        "    parse_expr,\n",
        "    standard_transformations,\n",
        "    implicit_multiplication_application\n",
        ")\n",
        "from datetime import datetime\n",
        "\n",
        "transformations = (standard_transformations + (implicit_multiplication_application,))\n",
        "\n",
        "class CalculadorLimites:\n",
        "    def __init__(self, variable='x'):\n",
        "        \"\"\"\n",
        "        Calculador avanzado de límites con explicación paso a paso.\n",
        "\n",
        "        Args:\n",
        "            variable (str): Variable para el límite (por defecto 'x')\n",
        "        \"\"\"\n",
        "        self.variable = sp.Symbol(variable)\n",
        "        self.historial = []\n",
        "        print(f\"🧮 Calculador de Límites Avanzado inicializado (variable: '{variable}')\")\n",
        "        print(\"Capacidades:\")\n",
        "        print(\"- Límites básicos, laterales y en el infinito\")\n",
        "        print(\"- Indeterminaciones: 0/0, ∞/∞, ∞-∞, 0*∞, 1^∞, ∞^0, 0^0\")\n",
        "        print(\"- Técnicas: Factorización, racionalización, L'Hôpital, series de Taylor\")\n",
        "        print(\"- Funciones: polinómicas, trigonométricas, exponenciales, logarítmicas\")\n",
        "\n",
        "    def calcular_limite(self, expresion, punto, direccion='+'):\n",
        "        \"\"\"\n",
        "        Calcula límites con explicación detallada.\n",
        "\n",
        "        Args:\n",
        "            expresion (str): Expresión a evaluar\n",
        "            punto (str): Punto hacia donde tiende el límite (puede ser 'oo' para infinito)\n",
        "            direccion (str): '+' para límite por derecha, '-' por izquierda\n",
        "\n",
        "        Returns:\n",
        "            sympy.Expr: Resultado del límite\n",
        "        \"\"\"\n",
        "        try:\n",
        "            expr = self._parsear_expresion(expresion)\n",
        "            punto_eval = sp.oo if str(punto).lower() in ['oo', 'inf', 'infinito'] else parse_expr(str(punto))\n",
        "\n",
        "            display(Markdown(f\"### 🔍 Calculando límite: {'lím' if direccion == '+' else 'lím⁻'}\"))\n",
        "            display(Math(f\"\\\\lim_{{{self.variable} \\\\to {sp.latex(punto_eval)}{'^+' if direccion == '+' else '^-'}}} {sp.latex(expr)}\"))\n",
        "\n",
        "            # Paso 1: Evaluación directa\n",
        "            valor_directo = self._evaluar_directamente(expr, punto_eval, direccion)\n",
        "            if valor_directo is not None:\n",
        "                self._mostrar_resultado(expr, punto_eval, valor_directo, direccion)\n",
        "                self._agregar_al_historial(expr, punto_eval, valor_directo, direccion)\n",
        "                return valor_directo\n",
        "\n",
        "            # Paso 2: Identificar tipo de indeterminación\n",
        "            indeterminacion = self._identificar_indeterminacion(expr, punto_eval, direccion)\n",
        "            display(Markdown(f\"**Indeterminación encontrada:** `{indeterminacion}`\"))\n",
        "\n",
        "            # Paso 3: Aplicar técnica adecuada\n",
        "            if indeterminacion == '0/0':\n",
        "                resultado = self._resolver_0_sobre_0(expr, punto_eval, direccion)\n",
        "            elif indeterminacion == 'oo/oo':\n",
        "                resultado = self._resolver_inf_sobre_inf(expr, punto_eval, direccion)\n",
        "            elif indeterminacion == '0*oo':\n",
        "                resultado = self._resolver_0_por_inf(expr, punto_eval, direccion)\n",
        "            elif indeterminacion == 'oo-oo':\n",
        "                resultado = self._resolver_inf_menos_inf(expr, punto_eval, direccion)\n",
        "            elif indeterminacion in ['1^oo', '0^0', 'oo^0']:\n",
        "                resultado = self._resolver_potencias_indeterminadas(expr, punto_eval, direccion)\n",
        "            else:\n",
        "                resultado = sp.limit(expr, self.variable, punto_eval, dir=direccion)\n",
        "\n",
        "            self._mostrar_resultado(expr, punto_eval, resultado, direccion)\n",
        "            self._agregar_al_historial(expr, punto_eval, resultado, direccion)\n",
        "            return resultado\n",
        "\n",
        "        except Exception as e:\n",
        "            display(Markdown(f\"❌ **Error:** `{str(e)}`\"))\n",
        "            return None\n",
        "\n",
        "    # ========== MÉTODOS PRINCIPALES ==========\n",
        "    def _evaluar_directamente(self, expr, punto, direccion):\n",
        "        \"\"\"Intenta evaluación directa del límite.\"\"\"\n",
        "        try:\n",
        "            valor = expr.subs(self.variable, punto)\n",
        "            if not valor.has(sp.nan, sp.zoo, sp.oo, -sp.oo):\n",
        "                display(Markdown(\"**Evaluación directa:** Sustitución no produce indeterminación\"))\n",
        "                return valor\n",
        "\n",
        "            # Verificar límites laterales para discontinuidades\n",
        "            if str(punto) != 'oo':\n",
        "                limite_izq = sp.limit(expr, self.variable, punto, dir='-')\n",
        "                limite_der = sp.limit(expr, self.variable, punto, dir='+')\n",
        "\n",
        "                if limite_izq == limite_der:\n",
        "                    display(Markdown(\"**Límite existe:** Ambos laterales coinciden\"))\n",
        "                    return limite_izq\n",
        "                else:\n",
        "                    display(Markdown(f\"**Límite no existe:** Laterales diferentes ({limite_izq} ≠ {limite_der})\"))\n",
        "                    return None\n",
        "\n",
        "            return None\n",
        "        except:\n",
        "            return None\n",
        "\n",
        "    def _identificar_indeterminacion(self, expr, punto, direccion):\n",
        "        \"\"\"Determina el tipo de indeterminación.\"\"\"\n",
        "        if str(punto) == 'oo':\n",
        "            expr_rewritten = expr.subs(self.variable, 1/self.variable)\n",
        "            punto = 0\n",
        "        else:\n",
        "            expr_rewritten = expr\n",
        "\n",
        "        try:\n",
        "            num, den = expr_rewritten.as_numer_denom()\n",
        "            val_num = num.subs(self.variable, punto)\n",
        "            val_den = den.subs(self.variable, punto)\n",
        "\n",
        "            if val_num == 0 and val_den == 0:\n",
        "                return '0/0'\n",
        "            elif abs(val_num) == sp.oo and abs(val_den) == sp.oo:\n",
        "                return 'oo/oo'\n",
        "            elif (val_num == 0 and abs(val_den) == sp.oo) or (abs(val_num) == sp.oo and val_den == 0):\n",
        "                return '0*oo'\n",
        "\n",
        "        except:\n",
        "            pass\n",
        "\n",
        "        # Para diferencias\n",
        "        if expr_rewritten.is_Add:\n",
        "            terms = expr_rewritten.args\n",
        "            vals = [t.subs(self.variable, punto) for t in terms]\n",
        "            if any(v == sp.oo for v in vals) and any(v == -sp.oo for v in vals):\n",
        "                return 'oo-oo'\n",
        "\n",
        "        # Para potencias\n",
        "        if expr_rewritten.is_Pow:\n",
        "            base, exp = expr_rewritten.as_base_exp()\n",
        "            val_base = base.subs(self.variable, punto)\n",
        "            val_exp = exp.subs(self.variable, punto)\n",
        "\n",
        "            if val_base == 1 and abs(val_exp) == sp.oo:\n",
        "                return '1^oo'\n",
        "            elif val_base == 0 and val_exp == 0:\n",
        "                return '0^0'\n",
        "            elif abs(val_base) == sp.oo and val_exp == 0:\n",
        "                return 'oo^0'\n",
        "\n",
        "        return 'Indeterminación desconocida'\n",
        "\n",
        "    # ========== TÉCNICAS PARA INDETERMINACIONES ==========\n",
        "    def _resolver_0_sobre_0(self, expr, punto, direccion):\n",
        "        \"\"\"Resuelve indeterminaciones 0/0.\"\"\"\n",
        "        display(Markdown(\"**Aplicando técnicas para 0/0:**\"))\n",
        "\n",
        "        # 1. Factorización\n",
        "        expr_fact = sp.factor(expr)\n",
        "        if expr_fact != expr:\n",
        "            display(Markdown(\"- **Factorización:**\"))\n",
        "            display(Math(f\"{sp.latex(expr)} = {sp.latex(expr_fact)}\"))\n",
        "            resultado = self._evaluar_directamente(expr_fact, punto, direccion)\n",
        "            if resultado is not None:\n",
        "                return resultado\n",
        "\n",
        "        # 2. Racionalización\n",
        "        if any(sp.sqrt(f) in expr.args for f in expr.args if f.is_Pow):\n",
        "            display(Markdown(\"- **Racionalización:**\"))\n",
        "            conjugado = self._encontrar_conjugado(expr)\n",
        "            if conjugado:\n",
        "                expr_rac = expr * conjugado / conjugado\n",
        "                expr_rac = sp.simplify(expr_rac)\n",
        "                display(Math(f\"\\\\frac{{{sp.latex(expr)} \\\\cdot {sp.latex(conjugado)}}}{{{sp.latex(conjugado)}}} = {sp.latex(expr_rac)}\"))\n",
        "                resultado = self._evaluar_directamente(expr_rac, punto, direccion)\n",
        "                if resultado is not None:\n",
        "                    return resultado\n",
        "\n",
        "        # 3. Regla de L'Hôpital\n",
        "        display(Markdown(\"- **Aplicando Regla de L'Hôpital:**\"))\n",
        "        num, den = expr.as_numer_denom()\n",
        "        dnum = sp.diff(num, self.variable)\n",
        "        dden = sp.diff(den, self.variable)\n",
        "\n",
        "        display(Math(f\"\\\\lim \\\\frac{{f(x)}}{{g(x)}} = \\\\lim \\\\frac{{f'(x)}}{{g'(x)}}\"))\n",
        "        display(Math(f\"\\\\frac{{d/dx[{sp.latex(num)}]}}{{d/dx[{sp.latex(den)}]}} = \\\\frac{{{sp.latex(dnum)}}}{{{sp.latex(dden)}}}\"))\n",
        "\n",
        "        nuevo_lim = dnum / dden\n",
        "        resultado = self._evaluar_directamente(nuevo_lim, punto, direccion)\n",
        "        if resultado is not None:\n",
        "            return resultado\n",
        "        else:\n",
        "            return sp.limit(expr, self.variable, punto, dir=direccion)\n",
        "\n",
        "    def _resolver_inf_sobre_inf(self, expr, punto, direccion):\n",
        "        \"\"\"Resuelve indeterminaciones ∞/∞.\"\"\"\n",
        "        display(Markdown(\"**Aplicando técnicas para ∞/∞:**\"))\n",
        "\n",
        "        # 1. Dividir por término de mayor grado\n",
        "        if expr.is_rational_function(self.variable):\n",
        "            display(Markdown(\"- **Dividir por la mayor potencia:**\"))\n",
        "            grado_num = sp.degree(sp.numer(expr), self.variable)\n",
        "            grado_den = sp.degree(sp.denom(expr), self.variable)\n",
        "\n",
        "            if grado_num > grado_den:\n",
        "                resultado = sp.oo if sp.Limit(sp.numer(expr)/sp.denom(expr), self.variable, sp.oo).doit() > 0 else -sp.oo\n",
        "            elif grado_num < grado_den:\n",
        "                resultado = 0\n",
        "            else:\n",
        "                coef_num = sp.LC(sp.numer(expr), self.variable)\n",
        "                coef_den = sp.LC(sp.denom(expr), self.variable)\n",
        "                resultado = coef_num / coef_den\n",
        "\n",
        "            display(Math(f\"\\\\frac{{{sp.latex(sp.numer(expr))}}}{{{sp.latex(sp.denom(expr))}}} \\\\Rightarrow {sp.latex(resultado)}\"))\n",
        "            return resultado\n",
        "\n",
        "        # 2. Regla de L'Hôpital\n",
        "        display(Markdown(\"- **Aplicando Regla de L'Hôpital:**\"))\n",
        "        num, den = expr.as_numer_denom()\n",
        "        dnum = sp.diff(num, self.variable)\n",
        "        dden = sp.diff(den, self.variable)\n",
        "        return sp.limit(dnum/dden, self.variable, punto, dir=direccion)\n",
        "\n",
        "    def _resolver_0_por_inf(self, expr, punto, direccion):\n",
        "        \"\"\"Resuelve indeterminaciones 0*∞.\"\"\"\n",
        "        display(Markdown(\"**Aplicando técnicas para 0*∞:**\"))\n",
        "        display(Markdown(\"- Convertir a forma 0/0 o ∞/∞:\"))\n",
        "\n",
        "        # Convertir a 0/0\n",
        "        term1, term2 = expr.args if len(expr.args) == 2 else (expr.args[0], sp.Mul(*expr.args[1:]))\n",
        "\n",
        "        if term1.subs(self.variable, punto) == 0:\n",
        "            nuevo_expr = term1 / (1/term2)\n",
        "        else:\n",
        "            nuevo_expr = term2 / (1/term1)\n",
        "\n",
        "        display(Math(f\"{sp.latex(expr)} = \\\\frac{{{sp.latex(term1)}}}{{{sp.latex(1/term2)}}}\"))\n",
        "        return self.calcular_limite(nuevo_expr, punto, direccion)\n",
        "\n",
        "    def _resolver_inf_menos_inf(self, expr, punto, direccion):\n",
        "        \"\"\"Resuelve indeterminaciones ∞-∞.\"\"\"\n",
        "        display(Markdown(\"**Aplicando técnicas para ∞-∞:**\"))\n",
        "\n",
        "        # 1. Factor común\n",
        "        if expr.is_Add:\n",
        "            display(Markdown(\"- **Factor común:**\"))\n",
        "            factor = sp.factor(expr)\n",
        "            if factor != expr:\n",
        "                display(Math(f\"{sp.latex(expr)} = {sp.latex(factor)}\"))\n",
        "                return self.calcular_limite(factor, punto, direccion)\n",
        "\n",
        "        # 2. Combinar fracciones\n",
        "        display(Markdown(\"- **Combinar fracciones:**\"))\n",
        "        expr_comb = sp.together(expr)\n",
        "        if expr_comb != expr:\n",
        "            display(Math(f\"{sp.latex(expr)} = {sp.latex(expr_comb)}\"))\n",
        "            return self.calcular_limite(expr_comb, punto, direccion)\n",
        "\n",
        "        return sp.limit(expr, self.variable, punto, dir=direccion)\n",
        "\n",
        "    def _resolver_potencias_indeterminadas(self, expr, punto, direccion):\n",
        "        \"\"\"Resuelve indeterminaciones 1^∞, 0^0, ∞^0.\"\"\"\n",
        "        display(Markdown(\"**Aplicando técnicas para formas exponenciales:**\"))\n",
        "\n",
        "        base, exp = expr.as_base_exp()\n",
        "        display(Markdown(\"- Aplicando logaritmo natural:\"))\n",
        "        nuevo_expr = exp * sp.log(base)\n",
        "        display(Math(f\"\\\\lim {sp.latex(expr)} = e^{{\\\\lim {sp.latex(nuevo_expr)}}}\"))\n",
        "\n",
        "        limite_exp = self.calcular_limite(nuevo_expr, punto, direccion)\n",
        "        if limite_exp is not None:\n",
        "            resultado = sp.exp(limite_exp)\n",
        "            display(Math(f\"= e^{{{sp.latex(limite_exp)}}} = {sp.latex(resultado)}\"))\n",
        "            return resultado\n",
        "\n",
        "        return sp.limit(expr, self.variable, punto, dir=direccion)\n",
        "\n",
        "    # ========== MÉTODOS AUXILIARES ==========\n",
        "    def _parsear_expresion(self, expresion):\n",
        "        \"\"\"Convierte una cadena en expresión SymPy.\"\"\"\n",
        "        expr_str = expresion.replace(\"limite\", \"\").strip()\n",
        "        return parse_expr(\n",
        "            expr_str,\n",
        "            transformations=transformations,\n",
        "            local_dict={self.variable.name: self.variable}\n",
        "        )\n",
        "\n",
        "    def _encontrar_conjugado(self, expr):\n",
        "        \"\"\"Encuentra el conjugado para racionalizar.\"\"\"\n",
        "        for term in expr.args:\n",
        "            if term.is_Pow and term.exp == sp.S(1)/2:\n",
        "                return term.subs(term.args[0], term.args[0])\n",
        "            elif term.is_Mul:\n",
        "                for f in term.args:\n",
        "                    if f.is_Pow and f.exp == sp.S(1)/2:\n",
        "                        return f.subs(f.args[0], f.args[0])\n",
        "        return None\n",
        "\n",
        "    def _mostrar_resultado(self, expr, punto, resultado, direccion):\n",
        "        \"\"\"Muestra el resultado final.\"\"\"\n",
        "        display(Markdown(f\"### 📝 **Resultado del límite:**\"))\n",
        "        if str(punto) == 'oo':\n",
        "            punto_str = \"\\\\infty\"\n",
        "        elif str(punto) == '-oo':\n",
        "            punto_str = \"-\\\\infty\"\n",
        "        else:\n",
        "            punto_str = str(punto)\n",
        "\n",
        "        display(Math(\n",
        "            f\"\\\\lim_{{{self.variable} \\\\to {punto_str}{'^+' if direccion == '+' else '^-'}}} \"\n",
        "            f\"{sp.latex(expr)} = {sp.latex(resultado)}\"\n",
        "        ))\n",
        "\n",
        "    def _agregar_al_historial(self, expr, punto, resultado, direccion):\n",
        "        \"\"\"Guarda en el historial con timestamp.\"\"\"\n",
        "        entrada = {\n",
        "            'fecha': datetime.now().strftime(\"%Y-%m-%d %H:%M:%S\"),\n",
        "            'expresion': expr,\n",
        "            'punto': punto,\n",
        "            'resultado': resultado,\n",
        "            'direccion': direccion\n",
        "        }\n",
        "        self.historial.append(entrada)\n",
        "\n",
        "    def mostrar_historial(self):\n",
        "        \"\"\"Muestra el historial en formato de tabla.\"\"\"\n",
        "        if not self.historial:\n",
        "            display(Markdown(\"📜 **El historial está vacío.**\"))\n",
        "            return\n",
        "\n",
        "        tabla = \"| # | Fecha | Expresión | Punto | Dirección | Resultado |\\n|---|---|---|---|---|---|\\n\"\n",
        "        for idx, item in enumerate(self.historial, 1):\n",
        "            tabla += (\n",
        "                f\"| {idx} | {item['fecha']} | \"\n",
        "                f\"`{item['expresion']}` | \"\n",
        "                f\"{item['punto']} | \"\n",
        "                f\"{item['direccion']} | \"\n",
        "                f\"{item['resultado']} |\\n\"\n",
        "            )\n",
        "        display(Markdown(f\"### 📜 Historial de Límites\\n{tabla}\"))\n",
        "\n",
        "\n",
        "# Función para facilitar el cálculo de límites\n",
        "def limite(expresion, punto, direccion='+', variable='x'):\n",
        "    display(Markdown(\"---\"))\n",
        "    calculador = CalculadorLimites(variable)\n",
        "    resultado = calculador.calcular_limite(expresion, punto, direccion)\n",
        "    display(Markdown(\"---\"))\n",
        "    return resultado\n",
        "\n",
        "\n",
        "    # Mostrar historial\n",
        "    calculador = CalculadorLimites()\n",
        "    calculador.mostrar_historial()"
      ],
      "metadata": {
        "id": "orBczxg1cAjR"
      },
      "execution_count": 6,
      "outputs": []
    },
    {
      "cell_type": "code",
      "source": [
        "# 1. Límite básico que lleva a 0/0\n",
        "limite(\"(x**2 - 9)/(x - 3)\", 3)\n",
        "\n",
        "# 2. Límite en el infinito (∞/∞)\n",
        "limite(\"(2x**3 + x - 1)/(5x**3 - x**2 + 4)\", \"oo\")\n",
        "\n",
        "# 3. Límite trigonométrico importante\n",
        "limite(\"(1 - cos(x))/x**2\", 0)\n",
        "\n",
        "# 4. Límite lateral\n",
        "limite(\"1/(x - 2)\", 2, direccion='+')\n",
        "\n",
        "# 5. Indeterminación 1^∞ (límite fundamental)\n",
        "limite(\"(1 + 3/x)**(2x)\", \"oo\")\n",
        "\n",
        "# 6. Indeterminación ∞ - ∞\n",
        "limite(\"sqrt(x**2 + 1) - x\", \"oo\")"
      ],
      "metadata": {
        "colab": {
          "base_uri": "https://localhost:8080/",
          "height": 1000
        },
        "id": "FcwuUczOdSgO",
        "outputId": "ab0f5aa9-c16a-4b90-b9a5-0fee02fa9e14"
      },
      "execution_count": 8,
      "outputs": [
        {
          "output_type": "display_data",
          "data": {
            "text/plain": [
              "<IPython.core.display.Markdown object>"
            ],
            "text/markdown": "---"
          },
          "metadata": {}
        },
        {
          "output_type": "stream",
          "name": "stdout",
          "text": [
            "🧮 Calculador de Límites Avanzado inicializado (variable: 'x')\n",
            "Capacidades:\n",
            "- Límites básicos, laterales y en el infinito\n",
            "- Indeterminaciones: 0/0, ∞/∞, ∞-∞, 0*∞, 1^∞, ∞^0, 0^0\n",
            "- Técnicas: Factorización, racionalización, L'Hôpital, series de Taylor\n",
            "- Funciones: polinómicas, trigonométricas, exponenciales, logarítmicas\n"
          ]
        },
        {
          "output_type": "display_data",
          "data": {
            "text/plain": [
              "<IPython.core.display.Markdown object>"
            ],
            "text/markdown": "### 🔍 Calculando límite: lím"
          },
          "metadata": {}
        },
        {
          "output_type": "display_data",
          "data": {
            "text/plain": [
              "<IPython.core.display.Math object>"
            ],
            "text/latex": "$\\displaystyle \\lim_{x \\to 3^+} \\frac{x^{2} - 9}{x - 3}$"
          },
          "metadata": {}
        },
        {
          "output_type": "display_data",
          "data": {
            "text/plain": [
              "<IPython.core.display.Markdown object>"
            ],
            "text/markdown": "**Límite existe:** Ambos laterales coinciden"
          },
          "metadata": {}
        },
        {
          "output_type": "display_data",
          "data": {
            "text/plain": [
              "<IPython.core.display.Markdown object>"
            ],
            "text/markdown": "### 📝 **Resultado del límite:**"
          },
          "metadata": {}
        },
        {
          "output_type": "display_data",
          "data": {
            "text/plain": [
              "<IPython.core.display.Math object>"
            ],
            "text/latex": "$\\displaystyle \\lim_{x \\to 3^+} \\frac{x^{2} - 9}{x - 3} = 6$"
          },
          "metadata": {}
        },
        {
          "output_type": "display_data",
          "data": {
            "text/plain": [
              "<IPython.core.display.Markdown object>"
            ],
            "text/markdown": "---"
          },
          "metadata": {}
        },
        {
          "output_type": "display_data",
          "data": {
            "text/plain": [
              "<IPython.core.display.Markdown object>"
            ],
            "text/markdown": "---"
          },
          "metadata": {}
        },
        {
          "output_type": "stream",
          "name": "stdout",
          "text": [
            "🧮 Calculador de Límites Avanzado inicializado (variable: 'x')\n",
            "Capacidades:\n",
            "- Límites básicos, laterales y en el infinito\n",
            "- Indeterminaciones: 0/0, ∞/∞, ∞-∞, 0*∞, 1^∞, ∞^0, 0^0\n",
            "- Técnicas: Factorización, racionalización, L'Hôpital, series de Taylor\n",
            "- Funciones: polinómicas, trigonométricas, exponenciales, logarítmicas\n"
          ]
        },
        {
          "output_type": "display_data",
          "data": {
            "text/plain": [
              "<IPython.core.display.Markdown object>"
            ],
            "text/markdown": "### 🔍 Calculando límite: lím"
          },
          "metadata": {}
        },
        {
          "output_type": "display_data",
          "data": {
            "text/plain": [
              "<IPython.core.display.Math object>"
            ],
            "text/latex": "$\\displaystyle \\lim_{x \\to \\infty^+} \\frac{2 x^{3} + x - 1}{5 x^{3} - x^{2} + 4}$"
          },
          "metadata": {}
        },
        {
          "output_type": "display_data",
          "data": {
            "text/plain": [
              "<IPython.core.display.Markdown object>"
            ],
            "text/markdown": "**Indeterminación encontrada:** `0/0`"
          },
          "metadata": {}
        },
        {
          "output_type": "display_data",
          "data": {
            "text/plain": [
              "<IPython.core.display.Markdown object>"
            ],
            "text/markdown": "**Aplicando técnicas para 0/0:**"
          },
          "metadata": {}
        },
        {
          "output_type": "display_data",
          "data": {
            "text/plain": [
              "<IPython.core.display.Markdown object>"
            ],
            "text/markdown": "- **Aplicando Regla de L'Hôpital:**"
          },
          "metadata": {}
        },
        {
          "output_type": "display_data",
          "data": {
            "text/plain": [
              "<IPython.core.display.Math object>"
            ],
            "text/latex": "$\\displaystyle \\lim \\frac{f(x)}{g(x)} = \\lim \\frac{f'(x)}{g'(x)}$"
          },
          "metadata": {}
        },
        {
          "output_type": "display_data",
          "data": {
            "text/plain": [
              "<IPython.core.display.Math object>"
            ],
            "text/latex": "$\\displaystyle \\frac{d/dx[2 x^{3} + x - 1]}{d/dx[5 x^{3} - x^{2} + 4]} = \\frac{6 x^{2} + 1}{15 x^{2} - 2 x}$"
          },
          "metadata": {}
        },
        {
          "output_type": "display_data",
          "data": {
            "text/plain": [
              "<IPython.core.display.Markdown object>"
            ],
            "text/markdown": "### 📝 **Resultado del límite:**"
          },
          "metadata": {}
        },
        {
          "output_type": "display_data",
          "data": {
            "text/plain": [
              "<IPython.core.display.Math object>"
            ],
            "text/latex": "$\\displaystyle \\lim_{x \\to \\infty^+} \\frac{2 x^{3} + x - 1}{5 x^{3} - x^{2} + 4} = \\frac{2}{5}$"
          },
          "metadata": {}
        },
        {
          "output_type": "display_data",
          "data": {
            "text/plain": [
              "<IPython.core.display.Markdown object>"
            ],
            "text/markdown": "---"
          },
          "metadata": {}
        },
        {
          "output_type": "display_data",
          "data": {
            "text/plain": [
              "<IPython.core.display.Markdown object>"
            ],
            "text/markdown": "---"
          },
          "metadata": {}
        },
        {
          "output_type": "stream",
          "name": "stdout",
          "text": [
            "🧮 Calculador de Límites Avanzado inicializado (variable: 'x')\n",
            "Capacidades:\n",
            "- Límites básicos, laterales y en el infinito\n",
            "- Indeterminaciones: 0/0, ∞/∞, ∞-∞, 0*∞, 1^∞, ∞^0, 0^0\n",
            "- Técnicas: Factorización, racionalización, L'Hôpital, series de Taylor\n",
            "- Funciones: polinómicas, trigonométricas, exponenciales, logarítmicas\n"
          ]
        },
        {
          "output_type": "display_data",
          "data": {
            "text/plain": [
              "<IPython.core.display.Markdown object>"
            ],
            "text/markdown": "### 🔍 Calculando límite: lím"
          },
          "metadata": {}
        },
        {
          "output_type": "display_data",
          "data": {
            "text/plain": [
              "<IPython.core.display.Math object>"
            ],
            "text/latex": "$\\displaystyle \\lim_{x \\to 0^+} \\frac{1 - \\cos{\\left(x \\right)}}{x^{2}}$"
          },
          "metadata": {}
        },
        {
          "output_type": "display_data",
          "data": {
            "text/plain": [
              "<IPython.core.display.Markdown object>"
            ],
            "text/markdown": "**Límite existe:** Ambos laterales coinciden"
          },
          "metadata": {}
        },
        {
          "output_type": "display_data",
          "data": {
            "text/plain": [
              "<IPython.core.display.Markdown object>"
            ],
            "text/markdown": "### 📝 **Resultado del límite:**"
          },
          "metadata": {}
        },
        {
          "output_type": "display_data",
          "data": {
            "text/plain": [
              "<IPython.core.display.Math object>"
            ],
            "text/latex": "$\\displaystyle \\lim_{x \\to 0^+} \\frac{1 - \\cos{\\left(x \\right)}}{x^{2}} = \\frac{1}{2}$"
          },
          "metadata": {}
        },
        {
          "output_type": "display_data",
          "data": {
            "text/plain": [
              "<IPython.core.display.Markdown object>"
            ],
            "text/markdown": "---"
          },
          "metadata": {}
        },
        {
          "output_type": "display_data",
          "data": {
            "text/plain": [
              "<IPython.core.display.Markdown object>"
            ],
            "text/markdown": "---"
          },
          "metadata": {}
        },
        {
          "output_type": "stream",
          "name": "stdout",
          "text": [
            "🧮 Calculador de Límites Avanzado inicializado (variable: 'x')\n",
            "Capacidades:\n",
            "- Límites básicos, laterales y en el infinito\n",
            "- Indeterminaciones: 0/0, ∞/∞, ∞-∞, 0*∞, 1^∞, ∞^0, 0^0\n",
            "- Técnicas: Factorización, racionalización, L'Hôpital, series de Taylor\n",
            "- Funciones: polinómicas, trigonométricas, exponenciales, logarítmicas\n"
          ]
        },
        {
          "output_type": "display_data",
          "data": {
            "text/plain": [
              "<IPython.core.display.Markdown object>"
            ],
            "text/markdown": "### 🔍 Calculando límite: lím"
          },
          "metadata": {}
        },
        {
          "output_type": "display_data",
          "data": {
            "text/plain": [
              "<IPython.core.display.Math object>"
            ],
            "text/latex": "$\\displaystyle \\lim_{x \\to 2^+} \\frac{1}{x - 2}$"
          },
          "metadata": {}
        },
        {
          "output_type": "display_data",
          "data": {
            "text/plain": [
              "<IPython.core.display.Markdown object>"
            ],
            "text/markdown": "**Límite no existe:** Laterales diferentes (-oo ≠ oo)"
          },
          "metadata": {}
        },
        {
          "output_type": "display_data",
          "data": {
            "text/plain": [
              "<IPython.core.display.Markdown object>"
            ],
            "text/markdown": "**Indeterminación encontrada:** `Indeterminación desconocida`"
          },
          "metadata": {}
        },
        {
          "output_type": "display_data",
          "data": {
            "text/plain": [
              "<IPython.core.display.Markdown object>"
            ],
            "text/markdown": "### 📝 **Resultado del límite:**"
          },
          "metadata": {}
        },
        {
          "output_type": "display_data",
          "data": {
            "text/plain": [
              "<IPython.core.display.Math object>"
            ],
            "text/latex": "$\\displaystyle \\lim_{x \\to 2^+} \\frac{1}{x - 2} = \\infty$"
          },
          "metadata": {}
        },
        {
          "output_type": "display_data",
          "data": {
            "text/plain": [
              "<IPython.core.display.Markdown object>"
            ],
            "text/markdown": "---"
          },
          "metadata": {}
        },
        {
          "output_type": "display_data",
          "data": {
            "text/plain": [
              "<IPython.core.display.Markdown object>"
            ],
            "text/markdown": "---"
          },
          "metadata": {}
        },
        {
          "output_type": "stream",
          "name": "stdout",
          "text": [
            "🧮 Calculador de Límites Avanzado inicializado (variable: 'x')\n",
            "Capacidades:\n",
            "- Límites básicos, laterales y en el infinito\n",
            "- Indeterminaciones: 0/0, ∞/∞, ∞-∞, 0*∞, 1^∞, ∞^0, 0^0\n",
            "- Técnicas: Factorización, racionalización, L'Hôpital, series de Taylor\n",
            "- Funciones: polinómicas, trigonométricas, exponenciales, logarítmicas\n"
          ]
        },
        {
          "output_type": "display_data",
          "data": {
            "text/plain": [
              "<IPython.core.display.Markdown object>"
            ],
            "text/markdown": "### 🔍 Calculando límite: lím"
          },
          "metadata": {}
        },
        {
          "output_type": "display_data",
          "data": {
            "text/plain": [
              "<IPython.core.display.Math object>"
            ],
            "text/latex": "$\\displaystyle \\lim_{x \\to \\infty^+} \\left(1 + \\frac{3}{x}\\right)^{2 x}$"
          },
          "metadata": {}
        },
        {
          "output_type": "display_data",
          "data": {
            "text/plain": [
              "<IPython.core.display.Markdown object>"
            ],
            "text/markdown": "**Indeterminación encontrada:** `1^oo`"
          },
          "metadata": {}
        },
        {
          "output_type": "display_data",
          "data": {
            "text/plain": [
              "<IPython.core.display.Markdown object>"
            ],
            "text/markdown": "**Aplicando técnicas para formas exponenciales:**"
          },
          "metadata": {}
        },
        {
          "output_type": "display_data",
          "data": {
            "text/plain": [
              "<IPython.core.display.Markdown object>"
            ],
            "text/markdown": "- Aplicando logaritmo natural:"
          },
          "metadata": {}
        },
        {
          "output_type": "display_data",
          "data": {
            "text/plain": [
              "<IPython.core.display.Math object>"
            ],
            "text/latex": "$\\displaystyle \\lim \\left(1 + \\frac{3}{x}\\right)^{2 x} = e^{\\lim 2 x \\log{\\left(1 + \\frac{3}{x} \\right)}}$"
          },
          "metadata": {}
        },
        {
          "output_type": "display_data",
          "data": {
            "text/plain": [
              "<IPython.core.display.Markdown object>"
            ],
            "text/markdown": "❌ **Error:** `first argument to replace() must be a type, an expression or a callable`"
          },
          "metadata": {}
        },
        {
          "output_type": "display_data",
          "data": {
            "text/plain": [
              "<IPython.core.display.Markdown object>"
            ],
            "text/markdown": "### 📝 **Resultado del límite:**"
          },
          "metadata": {}
        },
        {
          "output_type": "display_data",
          "data": {
            "text/plain": [
              "<IPython.core.display.Math object>"
            ],
            "text/latex": "$\\displaystyle \\lim_{x \\to \\infty^+} \\left(1 + \\frac{3}{x}\\right)^{2 x} = e^{6}$"
          },
          "metadata": {}
        },
        {
          "output_type": "display_data",
          "data": {
            "text/plain": [
              "<IPython.core.display.Markdown object>"
            ],
            "text/markdown": "---"
          },
          "metadata": {}
        },
        {
          "output_type": "display_data",
          "data": {
            "text/plain": [
              "<IPython.core.display.Markdown object>"
            ],
            "text/markdown": "---"
          },
          "metadata": {}
        },
        {
          "output_type": "stream",
          "name": "stdout",
          "text": [
            "🧮 Calculador de Límites Avanzado inicializado (variable: 'x')\n",
            "Capacidades:\n",
            "- Límites básicos, laterales y en el infinito\n",
            "- Indeterminaciones: 0/0, ∞/∞, ∞-∞, 0*∞, 1^∞, ∞^0, 0^0\n",
            "- Técnicas: Factorización, racionalización, L'Hôpital, series de Taylor\n",
            "- Funciones: polinómicas, trigonométricas, exponenciales, logarítmicas\n"
          ]
        },
        {
          "output_type": "display_data",
          "data": {
            "text/plain": [
              "<IPython.core.display.Markdown object>"
            ],
            "text/markdown": "### 🔍 Calculando límite: lím"
          },
          "metadata": {}
        },
        {
          "output_type": "display_data",
          "data": {
            "text/plain": [
              "<IPython.core.display.Math object>"
            ],
            "text/latex": "$\\displaystyle \\lim_{x \\to \\infty^+} - x + \\sqrt{x^{2} + 1}$"
          },
          "metadata": {}
        },
        {
          "output_type": "display_data",
          "data": {
            "text/plain": [
              "<IPython.core.display.Markdown object>"
            ],
            "text/markdown": "**Indeterminación encontrada:** `Indeterminación desconocida`"
          },
          "metadata": {}
        },
        {
          "output_type": "display_data",
          "data": {
            "text/plain": [
              "<IPython.core.display.Markdown object>"
            ],
            "text/markdown": "### 📝 **Resultado del límite:**"
          },
          "metadata": {}
        },
        {
          "output_type": "display_data",
          "data": {
            "text/plain": [
              "<IPython.core.display.Math object>"
            ],
            "text/latex": "$\\displaystyle \\lim_{x \\to \\infty^+} - x + \\sqrt{x^{2} + 1} = 0$"
          },
          "metadata": {}
        },
        {
          "output_type": "display_data",
          "data": {
            "text/plain": [
              "<IPython.core.display.Markdown object>"
            ],
            "text/markdown": "---"
          },
          "metadata": {}
        },
        {
          "output_type": "execute_result",
          "data": {
            "text/plain": [
              "0"
            ],
            "text/latex": "$\\displaystyle 0$"
          },
          "metadata": {},
          "execution_count": 8
        }
      ]
    }
  ]
}